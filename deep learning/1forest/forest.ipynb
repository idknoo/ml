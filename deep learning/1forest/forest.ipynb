{
 "cells": [
  {
   "cell_type": "code",
   "execution_count": 1,
   "id": "initial_id",
   "metadata": {
    "collapsed": true,
    "ExecuteTime": {
     "end_time": "2023-09-27T23:34:25.633325Z",
     "start_time": "2023-09-27T23:34:25.621842Z"
    }
   },
   "outputs": [],
   "source": [
    "import pandas as pd\n",
    "import numpy as np\n",
    "import warnings\n",
    "warnings.filterwarnings(\"ignore\", category=UserWarning)\n",
    "%matplotlib inline"
   ]
  },
  {
   "cell_type": "code",
   "execution_count": 2,
   "outputs": [
    {
     "name": "stdout",
     "output_type": "stream",
     "text": [
      "Object `filterwarnings` not found.\n"
     ]
    }
   ],
   "source": [
    "?filterwarnings"
   ],
   "metadata": {
    "collapsed": false,
    "ExecuteTime": {
     "end_time": "2023-09-27T23:34:25.637731Z",
     "start_time": "2023-09-27T23:34:25.634835Z"
    }
   },
   "id": "27c66a1806da6e38"
  },
  {
   "cell_type": "code",
   "execution_count": 3,
   "outputs": [
    {
     "data": {
      "text/plain": "      0    1   2    3   4     5    6    7    8     9  ...  45  46  47  48  49  \\\n0  2683  333  35   30  26  2743  121  173  179  6572  ...   0   0   0   0   0   \n1  2915   90   8  216  11  4433  232  228  129  4019  ...   0   0   0   0   0   \n2  2941  162   7  698  76  2783  227  242  148  1784  ...   0   0   0   0   0   \n3  3096   60  17  170   3  3303  231  202   99  5370  ...   0   0   0   0   0   \n4  2999   66   8  488  37  1532  228  225  131  2290  ...   0   0   0   0   0   \n\n   50  51  52  53  54  \n0   0   0   0   0   2  \n1   0   0   0   0   1  \n2   0   0   0   0   2  \n3   0   0   0   0   1  \n4   0   0   0   0   2  \n\n[5 rows x 55 columns]",
      "text/html": "<div>\n<style scoped>\n    .dataframe tbody tr th:only-of-type {\n        vertical-align: middle;\n    }\n\n    .dataframe tbody tr th {\n        vertical-align: top;\n    }\n\n    .dataframe thead th {\n        text-align: right;\n    }\n</style>\n<table border=\"1\" class=\"dataframe\">\n  <thead>\n    <tr style=\"text-align: right;\">\n      <th></th>\n      <th>0</th>\n      <th>1</th>\n      <th>2</th>\n      <th>3</th>\n      <th>4</th>\n      <th>5</th>\n      <th>6</th>\n      <th>7</th>\n      <th>8</th>\n      <th>9</th>\n      <th>...</th>\n      <th>45</th>\n      <th>46</th>\n      <th>47</th>\n      <th>48</th>\n      <th>49</th>\n      <th>50</th>\n      <th>51</th>\n      <th>52</th>\n      <th>53</th>\n      <th>54</th>\n    </tr>\n  </thead>\n  <tbody>\n    <tr>\n      <th>0</th>\n      <td>2683</td>\n      <td>333</td>\n      <td>35</td>\n      <td>30</td>\n      <td>26</td>\n      <td>2743</td>\n      <td>121</td>\n      <td>173</td>\n      <td>179</td>\n      <td>6572</td>\n      <td>...</td>\n      <td>0</td>\n      <td>0</td>\n      <td>0</td>\n      <td>0</td>\n      <td>0</td>\n      <td>0</td>\n      <td>0</td>\n      <td>0</td>\n      <td>0</td>\n      <td>2</td>\n    </tr>\n    <tr>\n      <th>1</th>\n      <td>2915</td>\n      <td>90</td>\n      <td>8</td>\n      <td>216</td>\n      <td>11</td>\n      <td>4433</td>\n      <td>232</td>\n      <td>228</td>\n      <td>129</td>\n      <td>4019</td>\n      <td>...</td>\n      <td>0</td>\n      <td>0</td>\n      <td>0</td>\n      <td>0</td>\n      <td>0</td>\n      <td>0</td>\n      <td>0</td>\n      <td>0</td>\n      <td>0</td>\n      <td>1</td>\n    </tr>\n    <tr>\n      <th>2</th>\n      <td>2941</td>\n      <td>162</td>\n      <td>7</td>\n      <td>698</td>\n      <td>76</td>\n      <td>2783</td>\n      <td>227</td>\n      <td>242</td>\n      <td>148</td>\n      <td>1784</td>\n      <td>...</td>\n      <td>0</td>\n      <td>0</td>\n      <td>0</td>\n      <td>0</td>\n      <td>0</td>\n      <td>0</td>\n      <td>0</td>\n      <td>0</td>\n      <td>0</td>\n      <td>2</td>\n    </tr>\n    <tr>\n      <th>3</th>\n      <td>3096</td>\n      <td>60</td>\n      <td>17</td>\n      <td>170</td>\n      <td>3</td>\n      <td>3303</td>\n      <td>231</td>\n      <td>202</td>\n      <td>99</td>\n      <td>5370</td>\n      <td>...</td>\n      <td>0</td>\n      <td>0</td>\n      <td>0</td>\n      <td>0</td>\n      <td>0</td>\n      <td>0</td>\n      <td>0</td>\n      <td>0</td>\n      <td>0</td>\n      <td>1</td>\n    </tr>\n    <tr>\n      <th>4</th>\n      <td>2999</td>\n      <td>66</td>\n      <td>8</td>\n      <td>488</td>\n      <td>37</td>\n      <td>1532</td>\n      <td>228</td>\n      <td>225</td>\n      <td>131</td>\n      <td>2290</td>\n      <td>...</td>\n      <td>0</td>\n      <td>0</td>\n      <td>0</td>\n      <td>0</td>\n      <td>0</td>\n      <td>0</td>\n      <td>0</td>\n      <td>0</td>\n      <td>0</td>\n      <td>2</td>\n    </tr>\n  </tbody>\n</table>\n<p>5 rows × 55 columns</p>\n</div>"
     },
     "execution_count": 3,
     "metadata": {},
     "output_type": "execute_result"
    }
   ],
   "source": [
    "all_data = pd.read_csv('forest_dataset.csv')\n",
    "all_data.head()"
   ],
   "metadata": {
    "collapsed": false,
    "ExecuteTime": {
     "end_time": "2023-09-27T23:34:25.714716Z",
     "start_time": "2023-09-27T23:34:25.637858Z"
    }
   },
   "id": "e8dd28003f6aac32"
  },
  {
   "cell_type": "code",
   "execution_count": 4,
   "outputs": [
    {
     "data": {
      "text/plain": "(10000, 55)"
     },
     "execution_count": 4,
     "metadata": {},
     "output_type": "execute_result"
    }
   ],
   "source": [
    "all_data.shape"
   ],
   "metadata": {
    "collapsed": false,
    "ExecuteTime": {
     "end_time": "2023-09-27T23:34:25.718536Z",
     "start_time": "2023-09-27T23:34:25.713947Z"
    }
   },
   "id": "b9405a1295aaf44e"
  },
  {
   "cell_type": "code",
   "execution_count": 5,
   "outputs": [],
   "source": [
    "labels = all_data[all_data.columns[-1]].values\n",
    "feature_matrix = all_data[all_data.columns[:-1]].values"
   ],
   "metadata": {
    "collapsed": false,
    "ExecuteTime": {
     "end_time": "2023-09-27T23:34:25.724628Z",
     "start_time": "2023-09-27T23:34:25.721164Z"
    }
   },
   "id": "1a498ff79b779243"
  },
  {
   "cell_type": "code",
   "execution_count": 6,
   "outputs": [],
   "source": [
    "from sklearn.model_selection import train_test_split"
   ],
   "metadata": {
    "collapsed": false,
    "ExecuteTime": {
     "end_time": "2023-09-27T23:34:25.859609Z",
     "start_time": "2023-09-27T23:34:25.724080Z"
    }
   },
   "id": "d4518f0a2ac7d546"
  },
  {
   "cell_type": "code",
   "execution_count": 7,
   "outputs": [],
   "source": [
    "train_feature_matrix, test_feature_matrix, train_labels, test_labels = train_test_split(\n",
    "    feature_matrix, labels, test_size=0.2, random_state=42)"
   ],
   "metadata": {
    "collapsed": false,
    "ExecuteTime": {
     "end_time": "2023-09-27T23:34:25.870106Z",
     "start_time": "2023-09-27T23:34:25.861672Z"
    }
   },
   "id": "6915d51514b387d"
  },
  {
   "cell_type": "code",
   "execution_count": 8,
   "outputs": [],
   "source": [
    "from sklearn.linear_model import LogisticRegression"
   ],
   "metadata": {
    "collapsed": false,
    "ExecuteTime": {
     "end_time": "2023-09-27T23:34:25.919699Z",
     "start_time": "2023-09-27T23:34:25.870969Z"
    }
   },
   "id": "547e15b4b99e292c"
  },
  {
   "cell_type": "code",
   "execution_count": 9,
   "outputs": [],
   "source": [
    "# создание модели с указанием гиперпараметра C\n",
    "clf = LogisticRegression(C=1)\n",
    "# обучение модели\n",
    "clf.fit(train_feature_matrix, train_labels)\n",
    "# предсказание на тестовой выборке\n",
    "y_pred = clf.predict(test_feature_matrix)"
   ],
   "metadata": {
    "collapsed": false,
    "ExecuteTime": {
     "end_time": "2023-09-27T23:34:26.118110Z",
     "start_time": "2023-09-27T23:34:25.921503Z"
    }
   },
   "id": "d6331535c78d83a2"
  },
  {
   "cell_type": "code",
   "execution_count": 10,
   "outputs": [
    {
     "data": {
      "text/plain": "0.6075"
     },
     "execution_count": 10,
     "metadata": {},
     "output_type": "execute_result"
    }
   ],
   "source": [
    "from sklearn.metrics import accuracy_score\n",
    "\n",
    "accuracy_score(test_labels, y_pred)"
   ],
   "metadata": {
    "collapsed": false,
    "ExecuteTime": {
     "end_time": "2023-09-27T23:34:26.131711Z",
     "start_time": "2023-09-27T23:34:26.129981Z"
    }
   },
   "id": "38764465eb6623d"
  },
  {
   "cell_type": "code",
   "execution_count": 11,
   "outputs": [],
   "source": [
    "from sklearn.model_selection import GridSearchCV"
   ],
   "metadata": {
    "collapsed": false,
    "ExecuteTime": {
     "end_time": "2023-09-27T23:34:26.135944Z",
     "start_time": "2023-09-27T23:34:26.131334Z"
    }
   },
   "id": "70bf4dbde355f929"
  },
  {
   "cell_type": "code",
   "execution_count": 20,
   "outputs": [],
   "source": [
    "# # заново создадим модель, указав солвер\n",
    "# clf = LogisticRegression(solver='saga')\n",
    "# \n",
    "# # опишем сетку, по которой будем искать\n",
    "# param_grid = {\n",
    "#     'C': np.arange(1, 5), # также можно указать обычный массив, [1, 2, 3, 4]\n",
    "#     'penalty': ['l1', 'l2'],\n",
    "# }\n",
    "# \n",
    "# # создадим объект GridSearchCV\n",
    "# search = GridSearchCV(clf, param_grid, n_jobs=-1, cv=5, refit=True, scoring='accuracy')\n",
    "# \n",
    "# # запустим поиск\n",
    "# search.fit(feature_matrix, labels)\n",
    "# \n",
    "# # выведем наилучшие параметры\n",
    "# print(search.best_params_)"
   ],
   "metadata": {
    "collapsed": false,
    "ExecuteTime": {
     "end_time": "2023-09-27T23:34:59.665306Z",
     "start_time": "2023-09-27T23:34:59.650839Z"
    }
   },
   "id": "aff8b73e66d2d5e1"
  },
  {
   "cell_type": "code",
   "execution_count": 13,
   "outputs": [
    {
     "data": {
      "text/plain": "0.6419"
     },
     "execution_count": 13,
     "metadata": {},
     "output_type": "execute_result"
    }
   ],
   "source": [
    "accuracy_score(labels, search.best_estimator_.predict(feature_matrix))"
   ],
   "metadata": {
    "collapsed": false,
    "ExecuteTime": {
     "end_time": "2023-09-27T23:34:39.590112Z",
     "start_time": "2023-09-27T23:34:39.584273Z"
    }
   },
   "id": "a45352ae9aaed8a2"
  },
  {
   "cell_type": "code",
   "execution_count": 14,
   "outputs": [
    {
     "data": {
      "text/plain": "0.7365"
     },
     "execution_count": 14,
     "metadata": {},
     "output_type": "execute_result"
    }
   ],
   "source": [
    "from sklearn.neighbors import KNeighborsClassifier\n",
    "from sklearn.metrics import accuracy_score\n",
    "\n",
    "clf = KNeighborsClassifier()\n",
    "clf.fit(train_feature_matrix, train_labels)\n",
    "y_pred = clf.predict(test_feature_matrix)\n",
    "accuracy_score(test_labels, y_pred)"
   ],
   "metadata": {
    "collapsed": false,
    "ExecuteTime": {
     "end_time": "2023-09-27T23:34:39.973414Z",
     "start_time": "2023-09-27T23:34:39.591225Z"
    }
   },
   "id": "f7081c5982ffb91c"
  },
  {
   "cell_type": "code",
   "execution_count": 15,
   "outputs": [
    {
     "data": {
      "text/plain": "0.785"
     },
     "execution_count": 15,
     "metadata": {},
     "output_type": "execute_result"
    }
   ],
   "source": [
    "from sklearn.model_selection import GridSearchCV\n",
    "params = {'n_neighbors': [i for i in range(1, 11)],\n",
    "          'weights': ['uniform', 'distance'],\n",
    "          'metric': ['manhattan', 'euclidean']}\n",
    "\n",
    "clf_grid = GridSearchCV(clf, params, cv=5, scoring='accuracy', n_jobs=-1)\n",
    "clf_grid.fit(train_feature_matrix, train_labels)\n",
    "y_pred = clf_grid.predict(test_feature_matrix)\n",
    "accuracy_score(test_labels, y_pred)"
   ],
   "metadata": {
    "collapsed": false,
    "ExecuteTime": {
     "end_time": "2023-09-27T23:34:49.898333Z",
     "start_time": "2023-09-27T23:34:39.975351Z"
    }
   },
   "id": "19338e2dc448a66f"
  },
  {
   "cell_type": "code",
   "execution_count": 16,
   "outputs": [
    {
     "data": {
      "text/plain": "{'metric': 'manhattan', 'n_neighbors': 4, 'weights': 'distance'}"
     },
     "execution_count": 16,
     "metadata": {},
     "output_type": "execute_result"
    }
   ],
   "source": [
    "clf_grid.best_params_"
   ],
   "metadata": {
    "collapsed": false,
    "ExecuteTime": {
     "end_time": "2023-09-27T23:34:49.918565Z",
     "start_time": "2023-09-27T23:34:49.899515Z"
    }
   },
   "id": "92df741691f7e059"
  },
  {
   "cell_type": "code",
   "execution_count": 17,
   "outputs": [],
   "source": [
    "optimal_clf = KNeighborsClassifier(n_neighbors=4, metric='manhattan', weights='distance')\n",
    "optimal_clf.fit(train_feature_matrix, train_labels)\n",
    "pred_prob = optimal_clf.predict_proba(test_feature_matrix)"
   ],
   "metadata": {
    "collapsed": false,
    "ExecuteTime": {
     "end_time": "2023-09-27T23:34:50.382537Z",
     "start_time": "2023-09-27T23:34:49.904596Z"
    }
   },
   "id": "32f43b963e545658"
  },
  {
   "cell_type": "code",
   "execution_count": 18,
   "outputs": [
    {
     "data": {
      "text/plain": "<Figure size 1000x800 with 1 Axes>",
      "image/png": "[encoded data removed]"
     },
     "metadata": {},
     "output_type": "display_data"
    }
   ],
   "source": [
    "import matplotlib.pyplot as plt\n",
    "%matplotlib inline\n",
    "import numpy as np\n",
    "\n",
    "unique, freq = np.unique(test_labels, return_counts=True)\n",
    "freq = list(map(lambda x: x / len(test_labels),freq))\n",
    "\n",
    "pred_freq = pred_prob.mean(axis=0)\n",
    "plt.figure(figsize=(10, 8))\n",
    "plt.bar(range(1, 8), pred_freq, width=0.4, align=\"edge\", label='prediction')\n",
    "plt.bar(range(1, 8), freq, width=-0.4, align=\"edge\", label='real')\n",
    "plt.ylim(0, 0.54)\n",
    "plt.legend()\n",
    "plt.show()"
   ],
   "metadata": {
    "collapsed": false,
    "ExecuteTime": {
     "end_time": "2023-09-27T23:34:50.540824Z",
     "start_time": "2023-09-27T23:34:50.389706Z"
    }
   },
   "id": "67bad73ef573a9a8"
  },
  {
   "cell_type": "code",
   "execution_count": 19,
   "outputs": [
    {
     "data": {
      "text/plain": "0.0555"
     },
     "execution_count": 19,
     "metadata": {},
     "output_type": "execute_result"
    }
   ],
   "source": [
    "freq[2]"
   ],
   "metadata": {
    "collapsed": false,
    "ExecuteTime": {
     "end_time": "2023-09-27T23:34:50.547113Z",
     "start_time": "2023-09-27T23:34:50.541575Z"
    }
   },
   "id": "72aa194d5ff01c20"
  }
 ],
 "metadata": {
  "kernelspec": {
   "display_name": "Python 3",
   "language": "python",
   "name": "python3"
  },
  "language_info": {
   "codemirror_mode": {
    "name": "ipython",
    "version": 2
   },
   "file_extension": ".py",
   "mimetype": "text/x-python",
   "name": "python",
   "nbconvert_exporter": "python",
   "pygments_lexer": "ipython2",
   "version": "2.7.6"
  }
 },
 "nbformat": 4,
 "nbformat_minor": 5
}
