{
 "cells": [
  {
   "cell_type": "markdown",
   "source": [
    "### Применение методов оптимизации для решения задачи классификации"
   ],
   "metadata": {
    "collapsed": false
   },
   "id": "1d24bf00ecb2c7e3"
  },
  {
   "cell_type": "code",
   "execution_count": 1,
   "id": "initial_id",
   "metadata": {
    "collapsed": true,
    "ExecuteTime": {
     "end_time": "2023-08-27T22:45:08.999305Z",
     "start_time": "2023-08-27T22:45:08.540645Z"
    }
   },
   "outputs": [],
   "source": [
    "from sklearn import datasets\n",
    "import numpy as np\n",
    "import pandas as pd"
   ]
  },
  {
   "cell_type": "code",
   "execution_count": 2,
   "outputs": [],
   "source": [
    "iris = datasets.load_iris()\n",
    "#iris"
   ],
   "metadata": {
    "collapsed": false,
    "ExecuteTime": {
     "end_time": "2023-08-27T22:45:08.999415Z",
     "start_time": "2023-08-27T22:45:08.706939Z"
    }
   },
   "id": "79b743b9021810e1"
  },
  {
   "cell_type": "code",
   "execution_count": 3,
   "outputs": [],
   "source": [
    "#iris['data']"
   ],
   "metadata": {
    "collapsed": false,
    "ExecuteTime": {
     "end_time": "2023-08-27T22:45:08.999512Z",
     "start_time": "2023-08-27T22:45:08.713997Z"
    }
   },
   "id": "d88cb1218da8a59b"
  },
  {
   "cell_type": "code",
   "execution_count": 4,
   "outputs": [
    {
     "data": {
      "text/plain": "array([0, 0, 0, 0, 0, 0, 0, 0, 0, 0, 0, 0, 0, 0, 0, 0, 0, 0, 0, 0, 0, 0,\n       0, 0, 0, 0, 0, 0, 0, 0, 0, 0, 0, 0, 0, 0, 0, 0, 0, 0, 0, 0, 0, 0,\n       0, 0, 0, 0, 0, 0, 1, 1, 1, 1, 1, 1, 1, 1, 1, 1, 1, 1, 1, 1, 1, 1,\n       1, 1, 1, 1, 1, 1, 1, 1, 1, 1, 1, 1, 1, 1, 1, 1, 1, 1, 1, 1, 1, 1,\n       1, 1, 1, 1, 1, 1, 1, 1, 1, 1, 1, 1, 2, 2, 2, 2, 2, 2, 2, 2, 2, 2,\n       2, 2, 2, 2, 2, 2, 2, 2, 2, 2, 2, 2, 2, 2, 2, 2, 2, 2, 2, 2, 2, 2,\n       2, 2, 2, 2, 2, 2, 2, 2, 2, 2, 2, 2, 2, 2, 2, 2, 2, 2])"
     },
     "execution_count": 4,
     "metadata": {},
     "output_type": "execute_result"
    }
   ],
   "source": [
    "iris['target']"
   ],
   "metadata": {
    "collapsed": false,
    "ExecuteTime": {
     "end_time": "2023-08-27T22:45:08.999712Z",
     "start_time": "2023-08-27T22:45:08.720640Z"
    }
   },
   "id": "d4cfb3b50752a3d"
  },
  {
   "cell_type": "code",
   "execution_count": 5,
   "outputs": [
    {
     "data": {
      "text/plain": "array(['setosa', 'versicolor', 'virginica'], dtype='<U10')"
     },
     "execution_count": 5,
     "metadata": {},
     "output_type": "execute_result"
    }
   ],
   "source": [
    "iris.target_names"
   ],
   "metadata": {
    "collapsed": false,
    "ExecuteTime": {
     "end_time": "2023-08-27T22:45:08.999818Z",
     "start_time": "2023-08-27T22:45:08.724476Z"
    }
   },
   "id": "43b13c302037a91f"
  },
  {
   "cell_type": "code",
   "execution_count": 6,
   "outputs": [
    {
     "data": {
      "text/plain": "['sepal length (cm)',\n 'sepal width (cm)',\n 'petal length (cm)',\n 'petal width (cm)']"
     },
     "execution_count": 6,
     "metadata": {},
     "output_type": "execute_result"
    }
   ],
   "source": [
    "iris.feature_names"
   ],
   "metadata": {
    "collapsed": false,
    "ExecuteTime": {
     "end_time": "2023-08-27T22:45:08.999952Z",
     "start_time": "2023-08-27T22:45:08.728130Z"
    }
   },
   "id": "f73085656a1706af"
  },
  {
   "cell_type": "code",
   "execution_count": 7,
   "outputs": [],
   "source": [
    "iris = pd.DataFrame(\n",
    "    data = np.c_[iris['data'], iris['target']],\n",
    "    columns = iris['feature_names'] + ['target']\n",
    ")"
   ],
   "metadata": {
    "collapsed": false,
    "ExecuteTime": {
     "end_time": "2023-08-27T22:45:08.999995Z",
     "start_time": "2023-08-27T22:45:08.732886Z"
    }
   },
   "id": "dbda91c365a7746d"
  },
  {
   "cell_type": "code",
   "execution_count": 8,
   "outputs": [
    {
     "data": {
      "text/plain": "   sepal length (cm)  sepal width (cm)  petal length (cm)  petal width (cm)  \\\n0                5.1               3.5                1.4               0.2   \n1                4.9               3.0                1.4               0.2   \n2                4.7               3.2                1.3               0.2   \n3                4.6               3.1                1.5               0.2   \n4                5.0               3.6                1.4               0.2   \n\n   target  \n0     0.0  \n1     0.0  \n2     0.0  \n3     0.0  \n4     0.0  ",
      "text/html": "<div>\n<style scoped>\n    .dataframe tbody tr th:only-of-type {\n        vertical-align: middle;\n    }\n\n    .dataframe tbody tr th {\n        vertical-align: top;\n    }\n\n    .dataframe thead th {\n        text-align: right;\n    }\n</style>\n<table border=\"1\" class=\"dataframe\">\n  <thead>\n    <tr style=\"text-align: right;\">\n      <th></th>\n      <th>sepal length (cm)</th>\n      <th>sepal width (cm)</th>\n      <th>petal length (cm)</th>\n      <th>petal width (cm)</th>\n      <th>target</th>\n    </tr>\n  </thead>\n  <tbody>\n    <tr>\n      <th>0</th>\n      <td>5.1</td>\n      <td>3.5</td>\n      <td>1.4</td>\n      <td>0.2</td>\n      <td>0.0</td>\n    </tr>\n    <tr>\n      <th>1</th>\n      <td>4.9</td>\n      <td>3.0</td>\n      <td>1.4</td>\n      <td>0.2</td>\n      <td>0.0</td>\n    </tr>\n    <tr>\n      <th>2</th>\n      <td>4.7</td>\n      <td>3.2</td>\n      <td>1.3</td>\n      <td>0.2</td>\n      <td>0.0</td>\n    </tr>\n    <tr>\n      <th>3</th>\n      <td>4.6</td>\n      <td>3.1</td>\n      <td>1.5</td>\n      <td>0.2</td>\n      <td>0.0</td>\n    </tr>\n    <tr>\n      <th>4</th>\n      <td>5.0</td>\n      <td>3.6</td>\n      <td>1.4</td>\n      <td>0.2</td>\n      <td>0.0</td>\n    </tr>\n  </tbody>\n</table>\n</div>"
     },
     "execution_count": 8,
     "metadata": {},
     "output_type": "execute_result"
    }
   ],
   "source": [
    "iris.head()"
   ],
   "metadata": {
    "collapsed": false,
    "ExecuteTime": {
     "end_time": "2023-08-27T22:45:09.010305Z",
     "start_time": "2023-08-27T22:45:08.736175Z"
    }
   },
   "id": "7320e34b2938b865"
  },
  {
   "cell_type": "code",
   "execution_count": 9,
   "outputs": [],
   "source": [
    "# можно было определить versicolor и virginica сразу [0, 1] классы, но мы удалим таргет 0 и воспользуемся LabelEncoding, не зря же учили \n",
    "species = []\n",
    "\n",
    "for i in range(len(iris['target'])):\n",
    "    if iris['target'][i] == 0:\n",
    "        species.append(\"setosa\")\n",
    "    elif iris['target'][i] == 1:\n",
    "        species.append('versicolor')\n",
    "    else:\n",
    "        species.append('virginica')\n",
    "\n",
    "\n",
    "iris['species'] = species"
   ],
   "metadata": {
    "collapsed": false,
    "ExecuteTime": {
     "end_time": "2023-08-27T22:45:09.010381Z",
     "start_time": "2023-08-27T22:45:08.750769Z"
    }
   },
   "id": "89e075e899b2d3b7"
  },
  {
   "cell_type": "code",
   "execution_count": 10,
   "outputs": [
    {
     "data": {
      "text/plain": "   sepal length (cm)  sepal width (cm)  petal length (cm)  petal width (cm)  \\\n0                5.1               3.5                1.4               0.2   \n1                4.9               3.0                1.4               0.2   \n2                4.7               3.2                1.3               0.2   \n3                4.6               3.1                1.5               0.2   \n4                5.0               3.6                1.4               0.2   \n\n   target species  \n0     0.0  setosa  \n1     0.0  setosa  \n2     0.0  setosa  \n3     0.0  setosa  \n4     0.0  setosa  ",
      "text/html": "<div>\n<style scoped>\n    .dataframe tbody tr th:only-of-type {\n        vertical-align: middle;\n    }\n\n    .dataframe tbody tr th {\n        vertical-align: top;\n    }\n\n    .dataframe thead th {\n        text-align: right;\n    }\n</style>\n<table border=\"1\" class=\"dataframe\">\n  <thead>\n    <tr style=\"text-align: right;\">\n      <th></th>\n      <th>sepal length (cm)</th>\n      <th>sepal width (cm)</th>\n      <th>petal length (cm)</th>\n      <th>petal width (cm)</th>\n      <th>target</th>\n      <th>species</th>\n    </tr>\n  </thead>\n  <tbody>\n    <tr>\n      <th>0</th>\n      <td>5.1</td>\n      <td>3.5</td>\n      <td>1.4</td>\n      <td>0.2</td>\n      <td>0.0</td>\n      <td>setosa</td>\n    </tr>\n    <tr>\n      <th>1</th>\n      <td>4.9</td>\n      <td>3.0</td>\n      <td>1.4</td>\n      <td>0.2</td>\n      <td>0.0</td>\n      <td>setosa</td>\n    </tr>\n    <tr>\n      <th>2</th>\n      <td>4.7</td>\n      <td>3.2</td>\n      <td>1.3</td>\n      <td>0.2</td>\n      <td>0.0</td>\n      <td>setosa</td>\n    </tr>\n    <tr>\n      <th>3</th>\n      <td>4.6</td>\n      <td>3.1</td>\n      <td>1.5</td>\n      <td>0.2</td>\n      <td>0.0</td>\n      <td>setosa</td>\n    </tr>\n    <tr>\n      <th>4</th>\n      <td>5.0</td>\n      <td>3.6</td>\n      <td>1.4</td>\n      <td>0.2</td>\n      <td>0.0</td>\n      <td>setosa</td>\n    </tr>\n  </tbody>\n</table>\n</div>"
     },
     "execution_count": 10,
     "metadata": {},
     "output_type": "execute_result"
    }
   ],
   "source": [
    "iris.head()"
   ],
   "metadata": {
    "collapsed": false,
    "ExecuteTime": {
     "end_time": "2023-08-27T22:45:09.010532Z",
     "start_time": "2023-08-27T22:45:08.757223Z"
    }
   },
   "id": "5fc8520937bb8ee3"
  },
  {
   "cell_type": "code",
   "execution_count": 11,
   "outputs": [
    {
     "data": {
      "text/plain": "species\nsetosa        50\nversicolor    50\nvirginica     50\ndtype: int64"
     },
     "execution_count": 11,
     "metadata": {},
     "output_type": "execute_result"
    }
   ],
   "source": [
    "iris.groupby('species').size()"
   ],
   "metadata": {
    "collapsed": false,
    "ExecuteTime": {
     "end_time": "2023-08-27T22:45:09.010635Z",
     "start_time": "2023-08-27T22:45:08.762179Z"
    }
   },
   "id": "9b4220d56ee7519f"
  },
  {
   "cell_type": "code",
   "execution_count": 12,
   "outputs": [
    {
     "data": {
      "text/plain": "       sepal length (cm)  sepal width (cm)  petal length (cm)  \\\ncount         150.000000        150.000000         150.000000   \nmean            5.843333          3.057333           3.758000   \nstd             0.828066          0.435866           1.765298   \nmin             4.300000          2.000000           1.000000   \n25%             5.100000          2.800000           1.600000   \n50%             5.800000          3.000000           4.350000   \n75%             6.400000          3.300000           5.100000   \nmax             7.900000          4.400000           6.900000   \n\n       petal width (cm)      target  \ncount        150.000000  150.000000  \nmean           1.199333    1.000000  \nstd            0.762238    0.819232  \nmin            0.100000    0.000000  \n25%            0.300000    0.000000  \n50%            1.300000    1.000000  \n75%            1.800000    2.000000  \nmax            2.500000    2.000000  ",
      "text/html": "<div>\n<style scoped>\n    .dataframe tbody tr th:only-of-type {\n        vertical-align: middle;\n    }\n\n    .dataframe tbody tr th {\n        vertical-align: top;\n    }\n\n    .dataframe thead th {\n        text-align: right;\n    }\n</style>\n<table border=\"1\" class=\"dataframe\">\n  <thead>\n    <tr style=\"text-align: right;\">\n      <th></th>\n      <th>sepal length (cm)</th>\n      <th>sepal width (cm)</th>\n      <th>petal length (cm)</th>\n      <th>petal width (cm)</th>\n      <th>target</th>\n    </tr>\n  </thead>\n  <tbody>\n    <tr>\n      <th>count</th>\n      <td>150.000000</td>\n      <td>150.000000</td>\n      <td>150.000000</td>\n      <td>150.000000</td>\n      <td>150.000000</td>\n    </tr>\n    <tr>\n      <th>mean</th>\n      <td>5.843333</td>\n      <td>3.057333</td>\n      <td>3.758000</td>\n      <td>1.199333</td>\n      <td>1.000000</td>\n    </tr>\n    <tr>\n      <th>std</th>\n      <td>0.828066</td>\n      <td>0.435866</td>\n      <td>1.765298</td>\n      <td>0.762238</td>\n      <td>0.819232</td>\n    </tr>\n    <tr>\n      <th>min</th>\n      <td>4.300000</td>\n      <td>2.000000</td>\n      <td>1.000000</td>\n      <td>0.100000</td>\n      <td>0.000000</td>\n    </tr>\n    <tr>\n      <th>25%</th>\n      <td>5.100000</td>\n      <td>2.800000</td>\n      <td>1.600000</td>\n      <td>0.300000</td>\n      <td>0.000000</td>\n    </tr>\n    <tr>\n      <th>50%</th>\n      <td>5.800000</td>\n      <td>3.000000</td>\n      <td>4.350000</td>\n      <td>1.300000</td>\n      <td>1.000000</td>\n    </tr>\n    <tr>\n      <th>75%</th>\n      <td>6.400000</td>\n      <td>3.300000</td>\n      <td>5.100000</td>\n      <td>1.800000</td>\n      <td>2.000000</td>\n    </tr>\n    <tr>\n      <th>max</th>\n      <td>7.900000</td>\n      <td>4.400000</td>\n      <td>6.900000</td>\n      <td>2.500000</td>\n      <td>2.000000</td>\n    </tr>\n  </tbody>\n</table>\n</div>"
     },
     "execution_count": 12,
     "metadata": {},
     "output_type": "execute_result"
    }
   ],
   "source": [
    "iris.describe()"
   ],
   "metadata": {
    "collapsed": false,
    "ExecuteTime": {
     "end_time": "2023-08-27T22:45:09.010787Z",
     "start_time": "2023-08-27T22:45:08.766058Z"
    }
   },
   "id": "3b6099812cb034e0"
  },
  {
   "cell_type": "code",
   "execution_count": 13,
   "outputs": [
    {
     "data": {
      "text/plain": "<matplotlib.legend.Legend at 0x7ff3689d8370>"
     },
     "execution_count": 13,
     "metadata": {},
     "output_type": "execute_result"
    },
    {
     "data": {
      "text/plain": "<Figure size 1300x700 with 1 Axes>",
      "image/png": "[encoded data removed]"
     },
     "metadata": {},
     "output_type": "display_data"
    }
   ],
   "source": [
    "import matplotlib.pyplot as plt\n",
    "\n",
    "setosa = iris[iris.species == \"setosa\"]\n",
    "versicolor = iris[iris.species=='versicolor']\n",
    "virginica = iris[iris.species=='virginica']\n",
    "\n",
    "fig, ax = plt.subplots()\n",
    "fig.set_size_inches(13, 7) # adjusting the length and width of plot\n",
    "\n",
    "# lables and scatter points\n",
    "ax.scatter(setosa['petal length (cm)'], setosa['petal width (cm)'], label=\"Setosa\", facecolor=\"blue\")\n",
    "ax.scatter(versicolor['petal length (cm)'], versicolor['petal width (cm)'], label=\"Versicolor\", facecolor=\"green\")\n",
    "ax.scatter(virginica['petal length (cm)'], virginica['petal width (cm)'], label=\"Virginica\", facecolor=\"red\")\n",
    "\n",
    "\n",
    "ax.set_xlabel(\"petal length (cm)\")\n",
    "ax.set_ylabel(\"petal width (cm)\")\n",
    "ax.grid()\n",
    "ax.set_title(\"Iris petals\")\n",
    "ax.legend()"
   ],
   "metadata": {
    "collapsed": false,
    "ExecuteTime": {
     "end_time": "2023-08-27T22:45:09.011111Z",
     "start_time": "2023-08-27T22:45:08.780601Z"
    }
   },
   "id": "86cb84ac8f91600b"
  },
  {
   "cell_type": "code",
   "execution_count": 14,
   "outputs": [
    {
     "data": {
      "text/plain": "['sepal length (cm)',\n 'sepal width (cm)',\n 'petal length (cm)',\n 'petal width (cm)',\n 'target',\n 'species']"
     },
     "execution_count": 14,
     "metadata": {},
     "output_type": "execute_result"
    }
   ],
   "source": [
    "iris.columns.tolist()"
   ],
   "metadata": {
    "collapsed": false,
    "ExecuteTime": {
     "end_time": "2023-08-27T22:45:09.011201Z",
     "start_time": "2023-08-27T22:45:08.980723Z"
    }
   },
   "id": "fd8452c3f3ca5919"
  },
  {
   "cell_type": "code",
   "execution_count": 15,
   "outputs": [
    {
     "data": {
      "text/plain": "     sepal length (cm)  sepal width (cm)  petal length (cm)  petal width (cm)  \\\n50                 7.0               3.2                4.7               1.4   \n51                 6.4               3.2                4.5               1.5   \n52                 6.9               3.1                4.9               1.5   \n53                 5.5               2.3                4.0               1.3   \n54                 6.5               2.8                4.6               1.5   \n..                 ...               ...                ...               ...   \n145                6.7               3.0                5.2               2.3   \n146                6.3               2.5                5.0               1.9   \n147                6.5               3.0                5.2               2.0   \n148                6.2               3.4                5.4               2.3   \n149                5.9               3.0                5.1               1.8   \n\n     target     species  \n50      1.0  versicolor  \n51      1.0  versicolor  \n52      1.0  versicolor  \n53      1.0  versicolor  \n54      1.0  versicolor  \n..      ...         ...  \n145     2.0   virginica  \n146     2.0   virginica  \n147     2.0   virginica  \n148     2.0   virginica  \n149     2.0   virginica  \n\n[100 rows x 6 columns]",
      "text/html": "<div>\n<style scoped>\n    .dataframe tbody tr th:only-of-type {\n        vertical-align: middle;\n    }\n\n    .dataframe tbody tr th {\n        vertical-align: top;\n    }\n\n    .dataframe thead th {\n        text-align: right;\n    }\n</style>\n<table border=\"1\" class=\"dataframe\">\n  <thead>\n    <tr style=\"text-align: right;\">\n      <th></th>\n      <th>sepal length (cm)</th>\n      <th>sepal width (cm)</th>\n      <th>petal length (cm)</th>\n      <th>petal width (cm)</th>\n      <th>target</th>\n      <th>species</th>\n    </tr>\n  </thead>\n  <tbody>\n    <tr>\n      <th>50</th>\n      <td>7.0</td>\n      <td>3.2</td>\n      <td>4.7</td>\n      <td>1.4</td>\n      <td>1.0</td>\n      <td>versicolor</td>\n    </tr>\n    <tr>\n      <th>51</th>\n      <td>6.4</td>\n      <td>3.2</td>\n      <td>4.5</td>\n      <td>1.5</td>\n      <td>1.0</td>\n      <td>versicolor</td>\n    </tr>\n    <tr>\n      <th>52</th>\n      <td>6.9</td>\n      <td>3.1</td>\n      <td>4.9</td>\n      <td>1.5</td>\n      <td>1.0</td>\n      <td>versicolor</td>\n    </tr>\n    <tr>\n      <th>53</th>\n      <td>5.5</td>\n      <td>2.3</td>\n      <td>4.0</td>\n      <td>1.3</td>\n      <td>1.0</td>\n      <td>versicolor</td>\n    </tr>\n    <tr>\n      <th>54</th>\n      <td>6.5</td>\n      <td>2.8</td>\n      <td>4.6</td>\n      <td>1.5</td>\n      <td>1.0</td>\n      <td>versicolor</td>\n    </tr>\n    <tr>\n      <th>...</th>\n      <td>...</td>\n      <td>...</td>\n      <td>...</td>\n      <td>...</td>\n      <td>...</td>\n      <td>...</td>\n    </tr>\n    <tr>\n      <th>145</th>\n      <td>6.7</td>\n      <td>3.0</td>\n      <td>5.2</td>\n      <td>2.3</td>\n      <td>2.0</td>\n      <td>virginica</td>\n    </tr>\n    <tr>\n      <th>146</th>\n      <td>6.3</td>\n      <td>2.5</td>\n      <td>5.0</td>\n      <td>1.9</td>\n      <td>2.0</td>\n      <td>virginica</td>\n    </tr>\n    <tr>\n      <th>147</th>\n      <td>6.5</td>\n      <td>3.0</td>\n      <td>5.2</td>\n      <td>2.0</td>\n      <td>2.0</td>\n      <td>virginica</td>\n    </tr>\n    <tr>\n      <th>148</th>\n      <td>6.2</td>\n      <td>3.4</td>\n      <td>5.4</td>\n      <td>2.3</td>\n      <td>2.0</td>\n      <td>virginica</td>\n    </tr>\n    <tr>\n      <th>149</th>\n      <td>5.9</td>\n      <td>3.0</td>\n      <td>5.1</td>\n      <td>1.8</td>\n      <td>2.0</td>\n      <td>virginica</td>\n    </tr>\n  </tbody>\n</table>\n<p>100 rows × 6 columns</p>\n</div>"
     },
     "execution_count": 15,
     "metadata": {},
     "output_type": "execute_result"
    }
   ],
   "source": [
    "# Оставляем только классы Iris Versicolor и Iris Virginica\n",
    "iris_filtered = iris[iris['target'] != 0]\n",
    "iris_filtered"
   ],
   "metadata": {
    "collapsed": false,
    "ExecuteTime": {
     "end_time": "2023-08-27T22:45:09.011391Z",
     "start_time": "2023-08-27T22:45:08.991734Z"
    }
   },
   "id": "d23bdba57680b6ea"
  },
  {
   "cell_type": "code",
   "execution_count": 16,
   "outputs": [],
   "source": [
    "from sklearn.preprocessing import LabelEncoder\n",
    "le = LabelEncoder()"
   ],
   "metadata": {
    "collapsed": false,
    "ExecuteTime": {
     "end_time": "2023-08-27T22:45:09.011525Z",
     "start_time": "2023-08-27T22:45:08.994327Z"
    }
   },
   "id": "fabdd12d24b419a3"
  },
  {
   "cell_type": "code",
   "execution_count": 17,
   "outputs": [
    {
     "data": {
      "text/plain": "LabelEncoder()"
     },
     "execution_count": 17,
     "metadata": {},
     "output_type": "execute_result"
    }
   ],
   "source": [
    "le.fit(iris_filtered['species'])"
   ],
   "metadata": {
    "collapsed": false,
    "ExecuteTime": {
     "end_time": "2023-08-27T22:45:09.143332Z",
     "start_time": "2023-08-27T22:45:08.999168Z"
    }
   },
   "id": "4f271af83242664f"
  },
  {
   "cell_type": "code",
   "execution_count": 18,
   "outputs": [
    {
     "data": {
      "text/plain": "array(['versicolor', 'virginica'], dtype=object)"
     },
     "execution_count": 18,
     "metadata": {},
     "output_type": "execute_result"
    }
   ],
   "source": [
    "le.classes_"
   ],
   "metadata": {
    "collapsed": false,
    "ExecuteTime": {
     "end_time": "2023-08-27T22:45:09.143439Z",
     "start_time": "2023-08-27T22:45:09.004007Z"
    }
   },
   "id": "a1c4e87878a2de3c"
  },
  {
   "cell_type": "code",
   "execution_count": 19,
   "outputs": [
    {
     "data": {
      "text/plain": "array(['virginica', 'versicolor', 'virginica'], dtype=object)"
     },
     "execution_count": 19,
     "metadata": {},
     "output_type": "execute_result"
    }
   ],
   "source": [
    "le.inverse_transform([1, 0, 1])"
   ],
   "metadata": {
    "collapsed": false,
    "ExecuteTime": {
     "end_time": "2023-08-27T22:45:09.180807Z",
     "start_time": "2023-08-27T22:45:09.008242Z"
    }
   },
   "id": "bdee5c1fc811303e"
  },
  {
   "cell_type": "code",
   "execution_count": 20,
   "outputs": [
    {
     "data": {
      "text/plain": "<bound method NDFrame.head of 0     0\n1     0\n2     0\n3     0\n4     0\n     ..\n95    1\n96    1\n97    1\n98    1\n99    1\nLength: 100, dtype: int64>"
     },
     "execution_count": 20,
     "metadata": {},
     "output_type": "execute_result"
    }
   ],
   "source": [
    "y = pd.Series(data=le.transform(iris_filtered['species']))\n",
    "y.head"
   ],
   "metadata": {
    "collapsed": false,
    "ExecuteTime": {
     "end_time": "2023-08-27T22:45:09.331971Z",
     "start_time": "2023-08-27T22:45:09.013113Z"
    }
   },
   "id": "8e66c5098bd8cd7f"
  },
  {
   "cell_type": "code",
   "execution_count": 21,
   "outputs": [
    {
     "data": {
      "text/plain": "50"
     },
     "execution_count": 21,
     "metadata": {},
     "output_type": "execute_result"
    }
   ],
   "source": [
    "y.sum() # я вот так проверяю корректность (не надо так), хотя на прошлой строчке и так вывели все "
   ],
   "metadata": {
    "collapsed": false,
    "ExecuteTime": {
     "end_time": "2023-08-27T22:45:09.332072Z",
     "start_time": "2023-08-27T22:45:09.016964Z"
    }
   },
   "id": "908d222a156d991e"
  },
  {
   "cell_type": "code",
   "execution_count": 22,
   "outputs": [
    {
     "data": {
      "text/plain": "<matplotlib.legend.Legend at 0x7ff368ccc160>"
     },
     "execution_count": 22,
     "metadata": {},
     "output_type": "execute_result"
    },
    {
     "data": {
      "text/plain": "<Figure size 1300x700 with 1 Axes>",
      "image/png": "[encoded data removed]"
     },
     "metadata": {},
     "output_type": "display_data"
    }
   ],
   "source": [
    "versicolor = iris_filtered[iris_filtered.species=='versicolor']\n",
    "virginica = iris_filtered[iris_filtered.species=='virginica']\n",
    "\n",
    "fig, ax = plt.subplots()\n",
    "fig.set_size_inches(13, 7) # adjusting the length and width of plot\n",
    "\n",
    "# lables and scatter points\n",
    "ax.scatter(versicolor['petal length (cm)'], versicolor['petal width (cm)'], label=\"Versicolor\", facecolor=\"green\")\n",
    "ax.scatter(virginica['petal length (cm)'], virginica['petal width (cm)'], label=\"Virginica\", facecolor=\"red\")\n",
    "\n",
    "ax.set_xlabel(\"petal length (cm)\")\n",
    "ax.set_ylabel(\"petal width (cm)\")\n",
    "ax.grid()\n",
    "ax.set_title(\"Iris petals\")\n",
    "ax.legend()"
   ],
   "metadata": {
    "collapsed": false,
    "ExecuteTime": {
     "end_time": "2023-08-27T22:45:09.603246Z",
     "start_time": "2023-08-27T22:45:09.023945Z"
    }
   },
   "id": "e1088601533b7b61"
  },
  {
   "cell_type": "code",
   "execution_count": 23,
   "outputs": [
    {
     "data": {
      "text/plain": "     sepal length (cm)  sepal width (cm)  petal length (cm)  petal width (cm)\n50                 7.0               3.2                4.7               1.4\n51                 6.4               3.2                4.5               1.5\n52                 6.9               3.1                4.9               1.5\n53                 5.5               2.3                4.0               1.3\n54                 6.5               2.8                4.6               1.5\n..                 ...               ...                ...               ...\n145                6.7               3.0                5.2               2.3\n146                6.3               2.5                5.0               1.9\n147                6.5               3.0                5.2               2.0\n148                6.2               3.4                5.4               2.3\n149                5.9               3.0                5.1               1.8\n\n[100 rows x 4 columns]",
      "text/html": "<div>\n<style scoped>\n    .dataframe tbody tr th:only-of-type {\n        vertical-align: middle;\n    }\n\n    .dataframe tbody tr th {\n        vertical-align: top;\n    }\n\n    .dataframe thead th {\n        text-align: right;\n    }\n</style>\n<table border=\"1\" class=\"dataframe\">\n  <thead>\n    <tr style=\"text-align: right;\">\n      <th></th>\n      <th>sepal length (cm)</th>\n      <th>sepal width (cm)</th>\n      <th>petal length (cm)</th>\n      <th>petal width (cm)</th>\n    </tr>\n  </thead>\n  <tbody>\n    <tr>\n      <th>50</th>\n      <td>7.0</td>\n      <td>3.2</td>\n      <td>4.7</td>\n      <td>1.4</td>\n    </tr>\n    <tr>\n      <th>51</th>\n      <td>6.4</td>\n      <td>3.2</td>\n      <td>4.5</td>\n      <td>1.5</td>\n    </tr>\n    <tr>\n      <th>52</th>\n      <td>6.9</td>\n      <td>3.1</td>\n      <td>4.9</td>\n      <td>1.5</td>\n    </tr>\n    <tr>\n      <th>53</th>\n      <td>5.5</td>\n      <td>2.3</td>\n      <td>4.0</td>\n      <td>1.3</td>\n    </tr>\n    <tr>\n      <th>54</th>\n      <td>6.5</td>\n      <td>2.8</td>\n      <td>4.6</td>\n      <td>1.5</td>\n    </tr>\n    <tr>\n      <th>...</th>\n      <td>...</td>\n      <td>...</td>\n      <td>...</td>\n      <td>...</td>\n    </tr>\n    <tr>\n      <th>145</th>\n      <td>6.7</td>\n      <td>3.0</td>\n      <td>5.2</td>\n      <td>2.3</td>\n    </tr>\n    <tr>\n      <th>146</th>\n      <td>6.3</td>\n      <td>2.5</td>\n      <td>5.0</td>\n      <td>1.9</td>\n    </tr>\n    <tr>\n      <th>147</th>\n      <td>6.5</td>\n      <td>3.0</td>\n      <td>5.2</td>\n      <td>2.0</td>\n    </tr>\n    <tr>\n      <th>148</th>\n      <td>6.2</td>\n      <td>3.4</td>\n      <td>5.4</td>\n      <td>2.3</td>\n    </tr>\n    <tr>\n      <th>149</th>\n      <td>5.9</td>\n      <td>3.0</td>\n      <td>5.1</td>\n      <td>1.8</td>\n    </tr>\n  </tbody>\n</table>\n<p>100 rows × 4 columns</p>\n</div>"
     },
     "execution_count": 23,
     "metadata": {},
     "output_type": "execute_result"
    }
   ],
   "source": [
    "X = iris_filtered\n",
    "#Y = iris_filtered['species']\n",
    "del X['target']\n",
    "del X['species']\n",
    "X"
   ],
   "metadata": {
    "collapsed": false,
    "ExecuteTime": {
     "end_time": "2023-08-27T22:45:09.603524Z",
     "start_time": "2023-08-27T22:45:09.190240Z"
    }
   },
   "id": "d2fcdde42c47433c"
  },
  {
   "cell_type": "code",
   "execution_count": 24,
   "outputs": [
    {
     "data": {
      "text/plain": "0     0\n1     0\n2     0\n3     0\n4     0\n     ..\n95    1\n96    1\n97    1\n98    1\n99    1\nName: target, Length: 100, dtype: int64"
     },
     "execution_count": 24,
     "metadata": {},
     "output_type": "execute_result"
    }
   ],
   "source": [
    "y.name = 'target'\n",
    "y"
   ],
   "metadata": {
    "collapsed": false,
    "ExecuteTime": {
     "end_time": "2023-08-27T22:45:09.603628Z",
     "start_time": "2023-08-27T22:45:09.195055Z"
    }
   },
   "id": "b7ecff71f747ae4"
  },
  {
   "cell_type": "code",
   "execution_count": 25,
   "outputs": [],
   "source": [
    "from sklearn.model_selection import train_test_split\n",
    "X_train, X_test, Y_train, Y_test = train_test_split(X, y, test_size=0.2, random_state=42)"
   ],
   "metadata": {
    "collapsed": false,
    "ExecuteTime": {
     "end_time": "2023-08-27T22:45:09.603677Z",
     "start_time": "2023-08-27T22:45:09.199114Z"
    }
   },
   "id": "38ffa4215d033fa3"
  },
  {
   "cell_type": "code",
   "execution_count": 26,
   "outputs": [
    {
     "data": {
      "text/plain": "     sepal length (cm)  sepal width (cm)  petal length (cm)  petal width (cm)\n50                 7.0               3.2                4.7               1.4\n51                 6.4               3.2                4.5               1.5\n52                 6.9               3.1                4.9               1.5\n53                 5.5               2.3                4.0               1.3\n54                 6.5               2.8                4.6               1.5\n..                 ...               ...                ...               ...\n145                6.7               3.0                5.2               2.3\n146                6.3               2.5                5.0               1.9\n147                6.5               3.0                5.2               2.0\n148                6.2               3.4                5.4               2.3\n149                5.9               3.0                5.1               1.8\n\n[100 rows x 4 columns]",
      "text/html": "<div>\n<style scoped>\n    .dataframe tbody tr th:only-of-type {\n        vertical-align: middle;\n    }\n\n    .dataframe tbody tr th {\n        vertical-align: top;\n    }\n\n    .dataframe thead th {\n        text-align: right;\n    }\n</style>\n<table border=\"1\" class=\"dataframe\">\n  <thead>\n    <tr style=\"text-align: right;\">\n      <th></th>\n      <th>sepal length (cm)</th>\n      <th>sepal width (cm)</th>\n      <th>petal length (cm)</th>\n      <th>petal width (cm)</th>\n    </tr>\n  </thead>\n  <tbody>\n    <tr>\n      <th>50</th>\n      <td>7.0</td>\n      <td>3.2</td>\n      <td>4.7</td>\n      <td>1.4</td>\n    </tr>\n    <tr>\n      <th>51</th>\n      <td>6.4</td>\n      <td>3.2</td>\n      <td>4.5</td>\n      <td>1.5</td>\n    </tr>\n    <tr>\n      <th>52</th>\n      <td>6.9</td>\n      <td>3.1</td>\n      <td>4.9</td>\n      <td>1.5</td>\n    </tr>\n    <tr>\n      <th>53</th>\n      <td>5.5</td>\n      <td>2.3</td>\n      <td>4.0</td>\n      <td>1.3</td>\n    </tr>\n    <tr>\n      <th>54</th>\n      <td>6.5</td>\n      <td>2.8</td>\n      <td>4.6</td>\n      <td>1.5</td>\n    </tr>\n    <tr>\n      <th>...</th>\n      <td>...</td>\n      <td>...</td>\n      <td>...</td>\n      <td>...</td>\n    </tr>\n    <tr>\n      <th>145</th>\n      <td>6.7</td>\n      <td>3.0</td>\n      <td>5.2</td>\n      <td>2.3</td>\n    </tr>\n    <tr>\n      <th>146</th>\n      <td>6.3</td>\n      <td>2.5</td>\n      <td>5.0</td>\n      <td>1.9</td>\n    </tr>\n    <tr>\n      <th>147</th>\n      <td>6.5</td>\n      <td>3.0</td>\n      <td>5.2</td>\n      <td>2.0</td>\n    </tr>\n    <tr>\n      <th>148</th>\n      <td>6.2</td>\n      <td>3.4</td>\n      <td>5.4</td>\n      <td>2.3</td>\n    </tr>\n    <tr>\n      <th>149</th>\n      <td>5.9</td>\n      <td>3.0</td>\n      <td>5.1</td>\n      <td>1.8</td>\n    </tr>\n  </tbody>\n</table>\n<p>100 rows × 4 columns</p>\n</div>"
     },
     "execution_count": 26,
     "metadata": {},
     "output_type": "execute_result"
    }
   ],
   "source": [
    "iris_filtered"
   ],
   "metadata": {
    "collapsed": false,
    "ExecuteTime": {
     "end_time": "2023-08-27T22:45:09.603885Z",
     "start_time": "2023-08-27T22:45:09.240674Z"
    }
   },
   "id": "8b121bd0901ce969"
  },
  {
   "cell_type": "code",
   "execution_count": 27,
   "outputs": [],
   "source": [
    "def sigmoid(z):\n",
    "    return 1 / (1 + np.exp(-z))\n",
    "\n",
    "def score(y_true, y_pred):\n",
    "    return np.mean(y_true == y_pred)\n",
    "\n",
    "def predict(X, theta):\n",
    "    X = np.hstack((np.ones((X.shape[0], 1)), X))  # Add bias term\n",
    "    predictions = sigmoid(np.dot(X, theta))\n",
    "    return (predictions >= 0.5).astype(int)"
   ],
   "metadata": {
    "collapsed": false,
    "ExecuteTime": {
     "end_time": "2023-08-27T22:45:09.603930Z",
     "start_time": "2023-08-27T22:45:09.249814Z"
    }
   },
   "id": "19b75bb03940ffe1"
  },
  {
   "cell_type": "markdown",
   "source": [
    "### LogisticRegression with gradient"
   ],
   "metadata": {
    "collapsed": false
   },
   "id": "51bea5f9f47244d3"
  },
  {
   "cell_type": "code",
   "execution_count": 28,
   "outputs": [],
   "source": [
    "#класс\n",
    "class LogisticRegression:\n",
    "    def __init__(self, learning_rate=0.01, num_iterations=1000):\n",
    "        self.learning_rate = learning_rate\n",
    "        self.num_iterations = num_iterations\n",
    "        self.theta = None\n",
    "\n",
    "    def fit(self, X, y):\n",
    "        X = np.hstack((np.ones((X.shape[0], 1)), X))  # Add bias term\n",
    "        self.theta = np.zeros(X.shape[1])\n",
    "\n",
    "        for _ in range(self.num_iterations):\n",
    "            z = np.dot(X, self.theta)\n",
    "            h = sigmoid(z)\n",
    "            gradient = np.dot(X.T, (h - y)) / y.size\n",
    "            self.theta -= self.learning_rate * gradient\n",
    "\n",
    "    def predict(self, X):\n",
    "        X = np.hstack((np.ones((X.shape[0], 1)), X))  # Add bias term\n",
    "        predictions = sigmoid(np.dot(X, self.theta))\n",
    "        return (predictions >= 0.5).astype(int)\n"
   ],
   "metadata": {
    "collapsed": false,
    "ExecuteTime": {
     "end_time": "2023-08-27T22:45:09.603974Z",
     "start_time": "2023-08-27T22:45:09.256140Z"
    }
   },
   "id": "95d8b40f846e890d"
  },
  {
   "cell_type": "code",
   "execution_count": 29,
   "outputs": [],
   "source": [
    "# Обучение логистической регрессии\n",
    "model = LogisticRegression()\n",
    "model.fit(X_train, Y_train)"
   ],
   "metadata": {
    "collapsed": false,
    "ExecuteTime": {
     "end_time": "2023-08-27T22:45:09.604045Z",
     "start_time": "2023-08-27T22:45:09.259651Z"
    }
   },
   "id": "1d8e36d97a59c2bc"
  },
  {
   "cell_type": "code",
   "execution_count": 30,
   "outputs": [],
   "source": [
    "# Прогнозирование на тестовом наборе\n",
    "predictions = model.predict(X_test)"
   ],
   "metadata": {
    "collapsed": false,
    "ExecuteTime": {
     "end_time": "2023-08-27T22:45:09.604114Z",
     "start_time": "2023-08-27T22:45:09.328787Z"
    }
   },
   "id": "73af0651e0981887"
  },
  {
   "cell_type": "code",
   "execution_count": 31,
   "outputs": [
    {
     "name": "stdout",
     "output_type": "stream",
     "text": [
      "score: 0.85\n"
     ]
    }
   ],
   "source": [
    "acc = score(Y_test, predictions)\n",
    "print(\"score:\", acc)"
   ],
   "metadata": {
    "collapsed": false,
    "ExecuteTime": {
     "end_time": "2023-08-27T22:45:09.648851Z",
     "start_time": "2023-08-27T22:45:09.332505Z"
    }
   },
   "id": "ddc6070dc11f4391"
  },
  {
   "cell_type": "code",
   "execution_count": 32,
   "outputs": [],
   "source": [
    "#фнукция\n",
    "def logistic_regression(X, y, learning_rate=0.01, num_iterations=1000):\n",
    "    X = np.hstack((np.ones((X.shape[0], 1)), X))  # Add bias term\n",
    "    theta = np.zeros(X.shape[1])\n",
    "    score_history = []  # Для сохранения истории точности\n",
    "\n",
    "    for _ in range(num_iterations):\n",
    "        z = np.dot(X, theta)\n",
    "        h = sigmoid(z)\n",
    "        gradient = np.dot(X.T, (h - y)) / y.size\n",
    "        theta -= learning_rate * gradient\n",
    "\n",
    "        predictions = predict(X[:, 1:], theta)\n",
    "        acc = score(y, predictions)\n",
    "        score_history.append(acc)\n",
    "\n",
    "    return theta, np.array(score_history)"
   ],
   "metadata": {
    "collapsed": false,
    "ExecuteTime": {
     "end_time": "2023-08-27T22:45:09.670571Z",
     "start_time": "2023-08-27T22:45:09.338422Z"
    }
   },
   "id": "a70fece887115553"
  },
  {
   "cell_type": "code",
   "execution_count": 33,
   "outputs": [],
   "source": [
    "  # Обучение логистической регрессии\n",
    "theta, score_history = logistic_regression(X_train, Y_train)"
   ],
   "metadata": {
    "collapsed": false,
    "ExecuteTime": {
     "end_time": "2023-08-27T22:45:09.786275Z",
     "start_time": "2023-08-27T22:45:09.342258Z"
    }
   },
   "id": "5e0eeb2f0dc55467"
  },
  {
   "cell_type": "code",
   "execution_count": 34,
   "outputs": [],
   "source": [
    "# Прогнозирование на тестовом наборе\n",
    "predictions = predict(X_test, theta)"
   ],
   "metadata": {
    "collapsed": false,
    "ExecuteTime": {
     "end_time": "2023-08-27T22:45:09.786353Z",
     "start_time": "2023-08-27T22:45:09.510212Z"
    }
   },
   "id": "c49bf8c73a521101"
  },
  {
   "cell_type": "code",
   "execution_count": 35,
   "outputs": [
    {
     "name": "stdout",
     "output_type": "stream",
     "text": [
      "score: 0.85\n"
     ]
    }
   ],
   "source": [
    "# Вычисление и вывод точности\n",
    "acc = score(Y_test, predictions)\n",
    "print(\"score:\", acc)"
   ],
   "metadata": {
    "collapsed": false,
    "ExecuteTime": {
     "end_time": "2023-08-27T22:45:09.803342Z",
     "start_time": "2023-08-27T22:45:09.514721Z"
    }
   },
   "id": "92911590ea17f1e0"
  },
  {
   "cell_type": "code",
   "execution_count": 55,
   "outputs": [
    {
     "data": {
      "text/plain": "<Figure size 900x600 with 1 Axes>",
      "image/png": "[encoded data removed]"
     },
     "metadata": {},
     "output_type": "display_data"
    }
   ],
   "source": [
    " # Построение графика изменения точности\n",
    "plt.figure(figsize=(9, 6))\n",
    "plt.plot(score_history)\n",
    "plt.xlabel('Iteration')\n",
    "plt.ylabel('score')\n",
    "plt.title('Change in score with Iterations')\n",
    "plt.show()"
   ],
   "metadata": {
    "collapsed": false,
    "ExecuteTime": {
     "end_time": "2023-08-27T22:48:09.401987Z",
     "start_time": "2023-08-27T22:48:09.280806Z"
    }
   },
   "id": "9e61a1836ef9ab36"
  },
  {
   "cell_type": "markdown",
   "source": [
    "Посмотрим на логистическую модель с помощью метода оптимизации - градиентный спуск, самый часто используемый в данной модели. Замечаем, что модель учится постепенно, с каждой итерацией точность повышается. На 1000 итерации у модели точность 0.975 на обучении, что довольно неплохо."
   ],
   "metadata": {
    "collapsed": false
   },
   "id": "17eca47f8a5547d1"
  },
  {
   "cell_type": "code",
   "execution_count": 37,
   "outputs": [
    {
     "data": {
      "text/plain": "0.975"
     },
     "execution_count": 37,
     "metadata": {},
     "output_type": "execute_result"
    }
   ],
   "source": [
    "score_history[-1]"
   ],
   "metadata": {
    "collapsed": false,
    "ExecuteTime": {
     "end_time": "2023-08-27T22:45:10.121776Z",
     "start_time": "2023-08-27T22:45:09.638612Z"
    }
   },
   "id": "77a7741023c0e630"
  },
  {
   "cell_type": "markdown",
   "source": [
    "### Logistic regression with Root Mean Square Propagation, RMSProp\n",
    "RMSProp представляет собой адаптивный метод градиентного спуска, который адаптирует скорость обучения для каждого параметра на основе скользящего среднего квадратов градиентов  \n",
    "'v' - значение скользящего среднего квадрата градиентов для каждого параметра  \n",
    "'beta' - контролирует вклад предыдущего скользящего среднего в текущее значение\n",
    "'gradient' - текущий градиент  \n",
    "<br>\n",
    "Чем ближе beta к 1, тем больше влияние имеют прошлые градиенты, и тем плавнее изменяется скользящее среднее. С другой стороны, если beta близко к 0, то только текущий градиент будет иметь существенное влияние, что может привести к более быстрой адаптации к последним обновлениям градиента."
   ],
   "metadata": {
    "collapsed": false
   },
   "id": "dfeab66c248b8a1"
  },
  {
   "cell_type": "code",
   "execution_count": 38,
   "outputs": [],
   "source": [
    "def logistic_regression_rmsprop(X, y, learning_rate=0.05, num_iterations=200, beta=0.6, epsilon=1e-8):\n",
    "    X = np.hstack((np.ones((X.shape[0], 1)), X))  # Add bias term\n",
    "    theta = np.zeros(X.shape[1])\n",
    "    v = np.zeros(X.shape[1])  # Инициализация скользящего среднего квадратов градиентов\n",
    "\n",
    "    score_history = []  # Для сохранения истории точности\n",
    "\n",
    "    for _ in range(num_iterations):\n",
    "        z = np.dot(X, theta)\n",
    "        h = sigmoid(z)\n",
    "        gradient = np.dot(X.T, (h - y)) / y.size\n",
    "\n",
    "        v = beta * v + (1 - beta) * gradient**2  # Обновление скользящего среднего квадратов градиентов\n",
    "        theta -= learning_rate * gradient / (np.sqrt(v) + epsilon)  # Обновление параметров с учетом скользящего среднего\n",
    "\n",
    "        predictions = predict(X[:, 1:], theta)\n",
    "        acc = score(y, predictions)\n",
    "        score_history.append(acc)\n",
    "\n",
    "    return theta, np.array(score_history)"
   ],
   "metadata": {
    "collapsed": false,
    "ExecuteTime": {
     "end_time": "2023-08-27T22:45:10.121824Z",
     "start_time": "2023-08-27T22:45:09.645290Z"
    }
   },
   "id": "36113323a3b993ec"
  },
  {
   "cell_type": "code",
   "execution_count": 39,
   "outputs": [
    {
     "name": "stdout",
     "output_type": "stream",
     "text": [
      "score 0: 0.9  | score 1: 0.9  | score 2: 0.9  | score 3: 0.9  | score 4: 0.9  | score 5: 0.9  | score 6: 0.9  | score 7: 0.9  | score 8: 0.9  | score 9: 0.9  | score 10: 0.9  | score 11: 0.9  | score 12: 0.9  | score 13: 0.9  | score 14: 0.9  | score 15: 0.9  | score 16: 0.9  | score 17: 0.9  | score 18: 0.9  | score 19: 0.9  | "
     ]
    }
   ],
   "source": [
    " # Обучение логистической регрессии с использованием RMSProp и сохранение истории точности\n",
    "for i in range(len(Y_test)):\n",
    "    theta, score_history = logistic_regression_rmsprop(X_train, Y_train)\n",
    "    predictions = predict(X_test, theta)\n",
    "    acc = score(Y_test, predictions)\n",
    "    print(f\"score {i}:\", acc, ' | ', end='') \n",
    "    "
   ],
   "metadata": {
    "collapsed": false,
    "ExecuteTime": {
     "end_time": "2023-08-27T22:45:10.567057Z",
     "start_time": "2023-08-27T22:45:09.647680Z"
    }
   },
   "id": "e35c727fca372d2d"
  },
  {
   "cell_type": "code",
   "execution_count": 40,
   "outputs": [],
   "source": [
    "# Прогнозирование на тестовом наборе\n",
    "predictions = predict(X_test, theta)"
   ],
   "metadata": {
    "collapsed": false,
    "ExecuteTime": {
     "end_time": "2023-08-27T22:45:10.574879Z",
     "start_time": "2023-08-27T22:45:10.348768Z"
    }
   },
   "id": "5cbfc74380ab219c"
  },
  {
   "cell_type": "code",
   "execution_count": 41,
   "outputs": [
    {
     "data": {
      "text/plain": "array([0, 1, 1, 0, 0, 0, 0, 1, 0, 0, 0, 0, 1, 1, 1, 0, 1, 1, 0, 0])"
     },
     "execution_count": 41,
     "metadata": {},
     "output_type": "execute_result"
    }
   ],
   "source": [
    "predictions"
   ],
   "metadata": {
    "collapsed": false,
    "ExecuteTime": {
     "end_time": "2023-08-27T22:45:10.588593Z",
     "start_time": "2023-08-27T22:45:10.352434Z"
    }
   },
   "id": "eafbd54f69b5156c"
  },
  {
   "cell_type": "code",
   "execution_count": 42,
   "outputs": [
    {
     "name": "stdout",
     "output_type": "stream",
     "text": [
      "score: 0.90\n"
     ]
    }
   ],
   "source": [
    " # Вычисление и вывод точности\n",
    "acc = score(Y_test, predictions)\n",
    "formatted_acc = \"{:.2f}\".format(acc)\n",
    "print(\"score:\", formatted_acc)"
   ],
   "metadata": {
    "collapsed": false,
    "ExecuteTime": {
     "end_time": "2023-08-27T22:45:10.588782Z",
     "start_time": "2023-08-27T22:45:10.356404Z"
    }
   },
   "id": "46d395e01f9f2929"
  },
  {
   "cell_type": "code",
   "execution_count": 53,
   "outputs": [
    {
     "data": {
      "text/plain": "<Figure size 900x600 with 1 Axes>",
      "image/png": "[encoded data removed]"
     },
     "metadata": {},
     "output_type": "display_data"
    }
   ],
   "source": [
    "  # Построение графика изменения точности\n",
    "plt.figure(figsize=(9, 6)) # график такой, зато acc самое большое \n",
    "plt.plot(score_history)\n",
    "plt.xlabel('Iteration')\n",
    "plt.ylabel('score')\n",
    "plt.title('Change in score with Iterations (RMSProp)')\n",
    "plt.show()"
   ],
   "metadata": {
    "collapsed": false,
    "ExecuteTime": {
     "end_time": "2023-08-27T22:47:55.711262Z",
     "start_time": "2023-08-27T22:47:55.554705Z"
    }
   },
   "id": "e1657c1e7fc06a66"
  },
  {
   "cell_type": "markdown",
   "source": [
    "Замечаем, что в данном методе модель обучается по-другому. У нее больший \"размах\" по точности. Но если проследить тенденцию, то модель все-таки обучается довольно быстро. Уже к 450 итерации точность составляет 1. Что намного быстрее, чем в обычном градиентном спуске (там мы до 1.0 даже не дошли пока)"
   ],
   "metadata": {
    "collapsed": false
   },
   "id": "c1db4a44a5241cfc"
  },
  {
   "cell_type": "code",
   "execution_count": 44,
   "outputs": [],
   "source": [
    "#score_history[449] output: 1.0"
   ],
   "metadata": {
    "collapsed": false,
    "ExecuteTime": {
     "end_time": "2023-08-27T22:45:10.606595Z",
     "start_time": "2023-08-27T22:45:10.488772Z"
    }
   },
   "id": "3e0271180e12abc7"
  },
  {
   "cell_type": "markdown",
   "source": [
    "### Logistic regression with Nesterov–accelerated Adaptive Moment Estimation\n",
    "\n",
    "Данный метод включает в себя историю и адаптивный шаг для более стабильной и быстрой сходимости  \n",
    "Nadam объединяет два метода оптимизации - Adam и NAG  \n",
    "'m', 'v' - сохраняют моменты первого и второго градиента соответственно  \n",
    "'t' - номер итерации"
   ],
   "metadata": {
    "collapsed": false
   },
   "id": "c9eefae56ff71a66"
  },
  {
   "cell_type": "code",
   "execution_count": 45,
   "outputs": [],
   "source": [
    "def logistic_regression_nadam(X, y, learning_rate=0.05, num_iterations=400, beta1=0.9, beta2=0.999, epsilon=1e-8):\n",
    "    X = np.hstack((np.ones((X.shape[0], 1)), X))  # Add bias term\n",
    "    theta = np.zeros(X.shape[1])\n",
    "    m = np.zeros(X.shape[1])  # Инициализация первых моментов\n",
    "    v = np.zeros(X.shape[1])  # Инициализация вторых моментов\n",
    "    t = 0  # Итерация\n",
    "\n",
    "    score_history = []  # Для сохранения истории точности\n",
    "\n",
    "    for _ in range(num_iterations):\n",
    "        t += 1\n",
    "        z = np.dot(X, theta)\n",
    "        h = sigmoid(z)\n",
    "        gradient = np.dot(X.T, (h - y)) / y.size\n",
    "\n",
    "        m = beta1 * m + (1 - beta1) * gradient  # Обновление первых моментов\n",
    "        v = beta2 * v + (1 - beta2) * gradient**2  # Обновление вторых моментов\n",
    "\n",
    "        # Исправление смещения моментов\n",
    "        m_hat = m / (1 - beta1**t)\n",
    "        v_hat = v / (1 - beta2**t)\n",
    "\n",
    "        # Обновление параметров с использованием моментов и адаптивного шага\n",
    "        theta -= learning_rate * m_hat / (np.sqrt(v_hat) + epsilon)\n",
    "\n",
    "        predictions = predict(X[:, 1:], theta)\n",
    "        acc = score(y, predictions)\n",
    "        score_history.append(acc)\n",
    "\n",
    "    return theta, np.array(score_history)"
   ],
   "metadata": {
    "collapsed": false,
    "ExecuteTime": {
     "end_time": "2023-08-27T22:45:10.620586Z",
     "start_time": "2023-08-27T22:45:10.495026Z"
    }
   },
   "id": "532b2b2eac1c2152"
  },
  {
   "cell_type": "code",
   "execution_count": 46,
   "outputs": [],
   "source": [
    " # Обучение логистической регрессии с использованием Nadam и сохранение истории точности\n",
    "theta, score_history = logistic_regression_nadam(X_train, Y_train)"
   ],
   "metadata": {
    "collapsed": false,
    "ExecuteTime": {
     "end_time": "2023-08-27T22:45:10.761198Z",
     "start_time": "2023-08-27T22:45:10.498213Z"
    }
   },
   "id": "5c109eed305c7d69"
  },
  {
   "cell_type": "code",
   "execution_count": 47,
   "outputs": [],
   "source": [
    "  # Прогнозирование на тестовом наборе\n",
    "predictions = predict(X_test, theta)"
   ],
   "metadata": {
    "collapsed": false,
    "ExecuteTime": {
     "end_time": "2023-08-27T22:45:10.761276Z",
     "start_time": "2023-08-27T22:45:10.572783Z"
    }
   },
   "id": "8eb05f50c1c7cc4d"
  },
  {
   "cell_type": "code",
   "execution_count": 48,
   "outputs": [
    {
     "name": "stdout",
     "output_type": "stream",
     "text": [
      "score: 0.85\n"
     ]
    }
   ],
   "source": [
    " # Вычисление и вывод точности\n",
    "acc = score(Y_test, predictions)\n",
    "print(\"score:\", acc)"
   ],
   "metadata": {
    "collapsed": false,
    "ExecuteTime": {
     "end_time": "2023-08-27T22:45:10.780778Z",
     "start_time": "2023-08-27T22:45:10.577063Z"
    }
   },
   "id": "17b04388cbe63c5e"
  },
  {
   "cell_type": "code",
   "execution_count": 54,
   "outputs": [
    {
     "data": {
      "text/plain": "<Figure size 900x600 with 1 Axes>",
      "image/png": "[encoded data removed]"
     },
     "metadata": {},
     "output_type": "display_data"
    }
   ],
   "source": [
    "# Построение графика изменения точности\n",
    "plt.figure(figsize=(9, 6))\n",
    "plt.plot(score_history)\n",
    "plt.xlabel('Iteration')\n",
    "plt.ylabel('score')\n",
    "plt.title('Change in score with Iterations (Nadam)')\n",
    "plt.show()"
   ],
   "metadata": {
    "collapsed": false,
    "ExecuteTime": {
     "end_time": "2023-08-27T22:48:02.656293Z",
     "start_time": "2023-08-27T22:48:02.529089Z"
    }
   },
   "id": "83f4dbcf04f29420"
  },
  {
   "cell_type": "markdown",
   "source": [
    "График обучения данной модели сразу стремится вверх, что нельзя сказать о наших предыдущих моделях (можно, но они не такие быстрые). Уже на 100ой итерации модель достигает точности 0.975, а к 400ой - 1.0. Похожие показатели можно заметить у RMSProp (но там график заметно отличается)"
   ],
   "metadata": {
    "collapsed": false
   },
   "id": "efb580d41d0c4e47"
  },
  {
   "cell_type": "code",
   "execution_count": 50,
   "outputs": [
    {
     "data": {
      "text/plain": "0.9875"
     },
     "execution_count": 50,
     "metadata": {},
     "output_type": "execute_result"
    }
   ],
   "source": [
    "score_history[100]"
   ],
   "metadata": {
    "collapsed": false,
    "ExecuteTime": {
     "end_time": "2023-08-27T22:45:10.860188Z",
     "start_time": "2023-08-27T22:45:10.699737Z"
    }
   },
   "id": "38b0e4957d22fd64"
  },
  {
   "cell_type": "code",
   "execution_count": 51,
   "outputs": [
    {
     "data": {
      "text/plain": "1.0"
     },
     "execution_count": 51,
     "metadata": {},
     "output_type": "execute_result"
    }
   ],
   "source": [
    "score_history[399]"
   ],
   "metadata": {
    "collapsed": false,
    "ExecuteTime": {
     "end_time": "2023-08-27T22:45:10.860286Z",
     "start_time": "2023-08-27T22:45:10.705535Z"
    }
   },
   "id": "58ab6cbd39a7b503"
  },
  {
   "cell_type": "code",
   "execution_count": 52,
   "outputs": [
    {
     "name": "stdout",
     "output_type": "stream",
     "text": [
      "| Метод           | Точность  |   Время работы (сек)   |\n",
      "|----------------|----------|--------------------|\n",
      "| GD             | 0.8500   |       0.1616       |\n",
      "| RMSProp        | 0.9000   |       0.0342       |\n",
      "| Nadam          | 0.8500   |       0.0670       |\n"
     ]
    }
   ],
   "source": [
    "import time\n",
    "\n",
    "# Замер времени для метода GD\n",
    "start_time = time.time()\n",
    "theta_gd, score_history_gd = logistic_regression(X_train, Y_train)\n",
    "gd_time = time.time() - start_time\n",
    "\n",
    "# Замер времени для метода RMSProp\n",
    "start_time = time.time()\n",
    "theta_rmsprop, score_history_rmsprop = logistic_regression_rmsprop(X_train, Y_train)\n",
    "rmsprop_time = time.time() - start_time\n",
    "\n",
    "# Замер времени для метода Nadam\n",
    "start_time = time.time()\n",
    "theta_nadam, score_history_nadam = logistic_regression_nadam(X_train, Y_train)\n",
    "nadam_time = time.time() - start_time\n",
    "\n",
    "# Прогнозирование на тестовом наборе для метода GD\n",
    "predictions_gd = predict(X_test, theta_gd)\n",
    "acc_gd = score(Y_test, predictions_gd)\n",
    "\n",
    "# Прогнозирование на тестовом наборе для метода RMSProp\n",
    "predictions_rmsprop = predict(X_test, theta_rmsprop)\n",
    "acc_rmsprop = score(Y_test, predictions_rmsprop)\n",
    "\n",
    "# Прогнозирование на тестовом наборе для метода Nadam\n",
    "predictions_nadam = predict(X_test, theta_nadam)\n",
    "acc_nadam = score(Y_test, predictions_nadam)\n",
    "\n",
    "\n",
    "# Вывод результатов\n",
    "print(\"| Метод          | Точность |  Время работы (сек)  |\")\n",
    "print(\"|----------------|----------|--------------------|\")\n",
    "print(f\"| GD             | {acc_gd:.4f}   |       {gd_time:.4f}       |\")\n",
    "print(f\"| RMSProp        | {acc_rmsprop:.4f}   |       {rmsprop_time:.4f}       |\")\n",
    "print(f\"| Nadam          | {acc_nadam:.4f}   |       {nadam_time:.4f}       |\")\n"
   ],
   "metadata": {
    "collapsed": false,
    "ExecuteTime": {
     "end_time": "2023-08-27T22:45:11.111208Z",
     "start_time": "2023-08-27T22:45:10.710629Z"
    }
   },
   "id": "a739145d4a54dada"
  },
  {
   "cell_type": "markdown",
   "source": [
    "<br>"
   ],
   "metadata": {
    "collapsed": false
   },
   "id": "1a0fcc3b61ba90d0"
  },
  {
   "cell_type": "markdown",
   "source": [
    "**Вывод:** У нас мало данных. Очень сложно понять насколько хороша модель, когда у тебя в тестовом наборе всего 20 наборов. А взять у обучения тоже нельзя, так как там и так 80 наборов. Проблема.  \n",
    "Если говорить о методах оптимизации, то мне больше всего понравился Nadam, который быстро сходится, довольно точный (если его подкрутить, то он не будет уступать RMSProp + добавить побольше данных желательно (чтобы точно все оценить, а не только об этом говорить). \n",
    "GD (градиентный спуск) показал себя неплохо, как и должен был, но чувствуется, что он обучается очень долго. За 1000 итераций он так и не смог обучиться на 100%. Еще можно попробовать стохастический градиентный спуск.  \n",
    "Если говорить о точности, то все модели почти одинаковы на данном наборе данных. Невозможно сделать каких-либо заключений, основываясь на полученные метрики точности. "
   ],
   "metadata": {
    "collapsed": false
   },
   "id": "3b8b6b1b298b60bd"
  },
  {
   "cell_type": "code",
   "execution_count": null,
   "outputs": [],
   "source": [],
   "metadata": {
    "collapsed": false
   },
   "id": "9b289f4da694c8f5"
  }
 ],
 "metadata": {
  "kernelspec": {
   "display_name": "Python 3",
   "language": "python",
   "name": "python3"
  },
  "language_info": {
   "codemirror_mode": {
    "name": "ipython",
    "version": 2
   },
   "file_extension": ".py",
   "mimetype": "text/x-python",
   "name": "python",
   "nbconvert_exporter": "python",
   "pygments_lexer": "ipython2",
   "version": "2.7.6"
  }
 },
 "nbformat": 4,
 "nbformat_minor": 5
}
