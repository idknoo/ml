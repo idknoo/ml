{
 "cells": [
  {
   "cell_type": "code",
   "execution_count": 1,
   "metadata": {
    "id": "eT06OHzd6UlT",
    "outputId": "6268fce5-dbb5-4fde-bda3-44ac4dbc1891",
    "ExecuteTime": {
     "end_time": "2024-01-14T20:27:18.350662Z",
     "start_time": "2024-01-14T20:27:18.267723Z"
    }
   },
   "outputs": [],
   "source": [
    "import pandas as pd\n",
    "import numpy as np\n",
    "from sklearn.feature_extraction.text import TfidfVectorizer\n",
    "from sklearn.metrics.pairwise import cosine_similarity\n",
    "from sklearn.model_selection import train_test_split\n",
    "from sklearn.metrics import mean_squared_error\n",
    "from math import sqrt\n",
    "import warnings\n",
    "warnings.filterwarnings('ignore')\n",
    "%matplotlib inline"
   ]
  },
  {
   "cell_type": "code",
   "execution_count": 2,
   "metadata": {
    "id": "z-4GBP7a6UlX",
    "outputId": "b4c00307-16ae-49de-da54-fa1c3dec51c5",
    "ExecuteTime": {
     "end_time": "2024-01-14T20:27:18.353597Z",
     "start_time": "2024-01-14T20:27:18.351221Z"
    }
   },
   "outputs": [],
   "source": [
    "import matplotlib.pyplot as plt\n",
    "import seaborn as sns"
   ]
  },
  {
   "cell_type": "code",
   "execution_count": 3,
   "outputs": [],
   "source": [
    "movies = pd.read_csv('../ml-latest-small/movies.csv')"
   ],
   "metadata": {
    "collapsed": false,
    "ExecuteTime": {
     "end_time": "2024-01-14T20:27:18.366558Z",
     "start_time": "2024-01-14T20:27:18.354656Z"
    }
   }
  },
  {
   "cell_type": "code",
   "execution_count": 4,
   "metadata": {
    "id": "GnOlxmtD6UlZ",
    "outputId": "ec2f7760-33ae-45da-cc3b-441d396c73f1",
    "ExecuteTime": {
     "end_time": "2024-01-14T20:27:18.396148Z",
     "start_time": "2024-01-14T20:27:18.369533Z"
    }
   },
   "outputs": [],
   "source": [
    "ratings = pd.read_csv('../ml-latest-small/ratings.csv')"
   ]
  },
  {
   "cell_type": "code",
   "execution_count": 5,
   "outputs": [
    {
     "data": {
      "text/plain": "   movieId                               title  \\\n0        1                    Toy Story (1995)   \n1        2                      Jumanji (1995)   \n2        3             Grumpier Old Men (1995)   \n3        4            Waiting to Exhale (1995)   \n4        5  Father of the Bride Part II (1995)   \n\n                                        genres  \n0  Adventure|Animation|Children|Comedy|Fantasy  \n1                   Adventure|Children|Fantasy  \n2                               Comedy|Romance  \n3                         Comedy|Drama|Romance  \n4                                       Comedy  ",
      "text/html": "<div>\n<style scoped>\n    .dataframe tbody tr th:only-of-type {\n        vertical-align: middle;\n    }\n\n    .dataframe tbody tr th {\n        vertical-align: top;\n    }\n\n    .dataframe thead th {\n        text-align: right;\n    }\n</style>\n<table border=\"1\" class=\"dataframe\">\n  <thead>\n    <tr style=\"text-align: right;\">\n      <th></th>\n      <th>movieId</th>\n      <th>title</th>\n      <th>genres</th>\n    </tr>\n  </thead>\n  <tbody>\n    <tr>\n      <th>0</th>\n      <td>1</td>\n      <td>Toy Story (1995)</td>\n      <td>Adventure|Animation|Children|Comedy|Fantasy</td>\n    </tr>\n    <tr>\n      <th>1</th>\n      <td>2</td>\n      <td>Jumanji (1995)</td>\n      <td>Adventure|Children|Fantasy</td>\n    </tr>\n    <tr>\n      <th>2</th>\n      <td>3</td>\n      <td>Grumpier Old Men (1995)</td>\n      <td>Comedy|Romance</td>\n    </tr>\n    <tr>\n      <th>3</th>\n      <td>4</td>\n      <td>Waiting to Exhale (1995)</td>\n      <td>Comedy|Drama|Romance</td>\n    </tr>\n    <tr>\n      <th>4</th>\n      <td>5</td>\n      <td>Father of the Bride Part II (1995)</td>\n      <td>Comedy</td>\n    </tr>\n  </tbody>\n</table>\n</div>"
     },
     "execution_count": 5,
     "metadata": {},
     "output_type": "execute_result"
    }
   ],
   "source": [
    "movies.head()"
   ],
   "metadata": {
    "collapsed": false,
    "ExecuteTime": {
     "end_time": "2024-01-14T20:27:18.405406Z",
     "start_time": "2024-01-14T20:27:18.398351Z"
    }
   }
  },
  {
   "cell_type": "code",
   "execution_count": 6,
   "metadata": {
    "id": "PPUDoGva6UlZ",
    "outputId": "122360ee-be0c-4814-e6c4-6ee1508993eb",
    "ExecuteTime": {
     "end_time": "2024-01-14T20:27:18.412866Z",
     "start_time": "2024-01-14T20:27:18.407626Z"
    }
   },
   "outputs": [
    {
     "data": {
      "text/plain": "   userId  movieId  rating  timestamp\n0       1        1     4.0  964982703\n1       1        3     4.0  964981247\n2       1        6     4.0  964982224\n3       1       47     5.0  964983815\n4       1       50     5.0  964982931",
      "text/html": "<div>\n<style scoped>\n    .dataframe tbody tr th:only-of-type {\n        vertical-align: middle;\n    }\n\n    .dataframe tbody tr th {\n        vertical-align: top;\n    }\n\n    .dataframe thead th {\n        text-align: right;\n    }\n</style>\n<table border=\"1\" class=\"dataframe\">\n  <thead>\n    <tr style=\"text-align: right;\">\n      <th></th>\n      <th>userId</th>\n      <th>movieId</th>\n      <th>rating</th>\n      <th>timestamp</th>\n    </tr>\n  </thead>\n  <tbody>\n    <tr>\n      <th>0</th>\n      <td>1</td>\n      <td>1</td>\n      <td>4.0</td>\n      <td>964982703</td>\n    </tr>\n    <tr>\n      <th>1</th>\n      <td>1</td>\n      <td>3</td>\n      <td>4.0</td>\n      <td>964981247</td>\n    </tr>\n    <tr>\n      <th>2</th>\n      <td>1</td>\n      <td>6</td>\n      <td>4.0</td>\n      <td>964982224</td>\n    </tr>\n    <tr>\n      <th>3</th>\n      <td>1</td>\n      <td>47</td>\n      <td>5.0</td>\n      <td>964983815</td>\n    </tr>\n    <tr>\n      <th>4</th>\n      <td>1</td>\n      <td>50</td>\n      <td>5.0</td>\n      <td>964982931</td>\n    </tr>\n  </tbody>\n</table>\n</div>"
     },
     "execution_count": 6,
     "metadata": {},
     "output_type": "execute_result"
    }
   ],
   "source": [
    "ratings.head()"
   ]
  },
  {
   "cell_type": "code",
   "execution_count": 7,
   "outputs": [],
   "source": [
    "selected_movies=pd.merge(movies, ratings, on='movieId', how='right')"
   ],
   "metadata": {
    "collapsed": false,
    "ExecuteTime": {
     "end_time": "2024-01-14T20:27:18.444097Z",
     "start_time": "2024-01-14T20:27:18.411829Z"
    }
   }
  },
  {
   "cell_type": "code",
   "execution_count": 8,
   "outputs": [
    {
     "data": {
      "text/plain": "   movieId                        title  \\\n0        1             Toy Story (1995)   \n1        3      Grumpier Old Men (1995)   \n2        6                  Heat (1995)   \n3       47  Seven (a.k.a. Se7en) (1995)   \n4       50   Usual Suspects, The (1995)   \n\n                                        genres  userId  rating  timestamp  \n0  Adventure|Animation|Children|Comedy|Fantasy       1     4.0  964982703  \n1                               Comedy|Romance       1     4.0  964981247  \n2                        Action|Crime|Thriller       1     4.0  964982224  \n3                             Mystery|Thriller       1     5.0  964983815  \n4                       Crime|Mystery|Thriller       1     5.0  964982931  ",
      "text/html": "<div>\n<style scoped>\n    .dataframe tbody tr th:only-of-type {\n        vertical-align: middle;\n    }\n\n    .dataframe tbody tr th {\n        vertical-align: top;\n    }\n\n    .dataframe thead th {\n        text-align: right;\n    }\n</style>\n<table border=\"1\" class=\"dataframe\">\n  <thead>\n    <tr style=\"text-align: right;\">\n      <th></th>\n      <th>movieId</th>\n      <th>title</th>\n      <th>genres</th>\n      <th>userId</th>\n      <th>rating</th>\n      <th>timestamp</th>\n    </tr>\n  </thead>\n  <tbody>\n    <tr>\n      <th>0</th>\n      <td>1</td>\n      <td>Toy Story (1995)</td>\n      <td>Adventure|Animation|Children|Comedy|Fantasy</td>\n      <td>1</td>\n      <td>4.0</td>\n      <td>964982703</td>\n    </tr>\n    <tr>\n      <th>1</th>\n      <td>3</td>\n      <td>Grumpier Old Men (1995)</td>\n      <td>Comedy|Romance</td>\n      <td>1</td>\n      <td>4.0</td>\n      <td>964981247</td>\n    </tr>\n    <tr>\n      <th>2</th>\n      <td>6</td>\n      <td>Heat (1995)</td>\n      <td>Action|Crime|Thriller</td>\n      <td>1</td>\n      <td>4.0</td>\n      <td>964982224</td>\n    </tr>\n    <tr>\n      <th>3</th>\n      <td>47</td>\n      <td>Seven (a.k.a. Se7en) (1995)</td>\n      <td>Mystery|Thriller</td>\n      <td>1</td>\n      <td>5.0</td>\n      <td>964983815</td>\n    </tr>\n    <tr>\n      <th>4</th>\n      <td>50</td>\n      <td>Usual Suspects, The (1995)</td>\n      <td>Crime|Mystery|Thriller</td>\n      <td>1</td>\n      <td>5.0</td>\n      <td>964982931</td>\n    </tr>\n  </tbody>\n</table>\n</div>"
     },
     "execution_count": 8,
     "metadata": {},
     "output_type": "execute_result"
    }
   ],
   "source": [
    "selected_movies.head()"
   ],
   "metadata": {
    "collapsed": false,
    "ExecuteTime": {
     "end_time": "2024-01-14T20:27:18.450623Z",
     "start_time": "2024-01-14T20:27:18.429192Z"
    }
   }
  },
  {
   "cell_type": "markdown",
   "source": [
    "# Content-Based Filtering"
   ],
   "metadata": {
    "collapsed": false
   }
  },
  {
   "cell_type": "code",
   "execution_count": 9,
   "metadata": {
    "id": "mb819A7K6Ulb",
    "outputId": "0a7e9906-8375-4587-f7ec-60f1d95cc470",
    "ExecuteTime": {
     "end_time": "2024-01-14T20:27:18.761966Z",
     "start_time": "2024-01-14T20:27:18.445177Z"
    }
   },
   "outputs": [],
   "source": [
    "tfidf_vectorizer = TfidfVectorizer(stop_words='english')\n",
    "tfidf_matrix = tfidf_vectorizer.fit_transform(selected_movies['genres'])\n",
    "\n",
    "def content_based_prediction(movie_id):\n",
    "    movie_tfidf = tfidf_matrix[movie_id]\n",
    "    similarity_scores = cosine_similarity(movie_tfidf, tfidf_matrix)\n",
    "    return similarity_scores"
   ]
  },
  {
   "cell_type": "code",
   "execution_count": 10,
   "outputs": [],
   "source": [
    "def get_content_based_recommendations(movie_id, top_n=5):\n",
    "    similarity_scores = content_based_prediction(movie_id)\n",
    "    similar_movies_idx = np.argsort(similarity_scores[0])[::-1][1:]\n",
    "\n",
    "    # Проверяем, чтобы movie_id был в пределах размера selected_movies\n",
    "    if 0 <= movie_id < len(selected_movies):\n",
    "        movie_title = selected_movies.iloc[movie_id]['title']\n",
    "\n",
    "        # Фильтруем по условию, что название фильма не равно movie_title\n",
    "        rec = (selected_movies.iloc[similar_movies_idx]\n",
    "               .query(\"title != @movie_title\") # Query Language в pandas \n",
    "               .drop_duplicates(subset=['movieId'])\n",
    "               .head(top_n)\n",
    "               .loc[:, ['title', 'genres']])\n",
    "               \n",
    "        return rec\n",
    "    else:\n",
    "        print(f\"Error: movie_id {movie_id} is out of range.\")\n",
    "        return None"
   ],
   "metadata": {
    "collapsed": false,
    "ExecuteTime": {
     "end_time": "2024-01-14T20:27:18.769467Z",
     "start_time": "2024-01-14T20:27:18.764337Z"
    }
   }
  },
  {
   "cell_type": "code",
   "execution_count": 11,
   "outputs": [],
   "source": [
    "movie_id = 15\n",
    "recommendations = get_content_based_recommendations(movie_id)"
   ],
   "metadata": {
    "collapsed": false,
    "ExecuteTime": {
     "end_time": "2024-01-14T20:27:18.797355Z",
     "start_time": "2024-01-14T20:27:18.767206Z"
    }
   }
  },
  {
   "cell_type": "code",
   "execution_count": 12,
   "outputs": [
    {
     "name": "stdout",
     "output_type": "stream",
     "text": [
      "Рекомендации для фильма 'Star Wars: Episode IV - A New Hope (1977)':\n"
     ]
    },
    {
     "data": {
      "text/plain": "                                                  title  \\\n2779            Superman IV: The Quest for Peace (1987)   \n8393                                    Superman (1978)   \n98711                                 Waterworld (1995)   \n8392   Star Wars: Episode I - The Phantom Menace (1999)   \n19691                                   Stargate (1994)   \n\n                        genres  \n2779   Action|Adventure|Sci-Fi  \n8393   Action|Adventure|Sci-Fi  \n98711  Action|Adventure|Sci-Fi  \n8392   Action|Adventure|Sci-Fi  \n19691  Action|Adventure|Sci-Fi  ",
      "text/html": "<div>\n<style scoped>\n    .dataframe tbody tr th:only-of-type {\n        vertical-align: middle;\n    }\n\n    .dataframe tbody tr th {\n        vertical-align: top;\n    }\n\n    .dataframe thead th {\n        text-align: right;\n    }\n</style>\n<table border=\"1\" class=\"dataframe\">\n  <thead>\n    <tr style=\"text-align: right;\">\n      <th></th>\n      <th>title</th>\n      <th>genres</th>\n    </tr>\n  </thead>\n  <tbody>\n    <tr>\n      <th>2779</th>\n      <td>Superman IV: The Quest for Peace (1987)</td>\n      <td>Action|Adventure|Sci-Fi</td>\n    </tr>\n    <tr>\n      <th>8393</th>\n      <td>Superman (1978)</td>\n      <td>Action|Adventure|Sci-Fi</td>\n    </tr>\n    <tr>\n      <th>98711</th>\n      <td>Waterworld (1995)</td>\n      <td>Action|Adventure|Sci-Fi</td>\n    </tr>\n    <tr>\n      <th>8392</th>\n      <td>Star Wars: Episode I - The Phantom Menace (1999)</td>\n      <td>Action|Adventure|Sci-Fi</td>\n    </tr>\n    <tr>\n      <th>19691</th>\n      <td>Stargate (1994)</td>\n      <td>Action|Adventure|Sci-Fi</td>\n    </tr>\n  </tbody>\n</table>\n</div>"
     },
     "execution_count": 12,
     "metadata": {},
     "output_type": "execute_result"
    }
   ],
   "source": [
    "print(f\"Рекомендации для фильма '{selected_movies.iloc[movie_id]['title']}':\")\n",
    "recommendations[['title', 'genres']]"
   ],
   "metadata": {
    "collapsed": false,
    "ExecuteTime": {
     "end_time": "2024-01-14T20:27:18.804717Z",
     "start_time": "2024-01-14T20:27:18.800589Z"
    }
   }
  },
  {
   "cell_type": "markdown",
   "source": [
    "# Collaborative Filtering"
   ],
   "metadata": {
    "collapsed": false
   }
  },
  {
   "cell_type": "code",
   "execution_count": 13,
   "outputs": [],
   "source": [
    "from surprise import Dataset, Reader, KNNBasic\n",
    "\n",
    "reader = Reader(rating_scale=(0.5, 5))\n",
    "data = Dataset.load_from_df(selected_movies[['userId', 'movieId', 'rating']], reader)\n",
    "trainset = data.build_full_trainset()"
   ],
   "metadata": {
    "collapsed": false,
    "ExecuteTime": {
     "end_time": "2024-01-14T20:27:18.929056Z",
     "start_time": "2024-01-14T20:27:18.805676Z"
    }
   }
  },
  {
   "cell_type": "code",
   "execution_count": 14,
   "outputs": [
    {
     "name": "stdout",
     "output_type": "stream",
     "text": [
      "Computing the cosine similarity matrix...\n",
      "Done computing similarity matrix.\n"
     ]
    },
    {
     "data": {
      "text/plain": "<surprise.prediction_algorithms.knns.KNNBasic at 0x7f9fb8978a30>"
     },
     "execution_count": 14,
     "metadata": {},
     "output_type": "execute_result"
    }
   ],
   "source": [
    "# Обучение коллаборативной модели\n",
    "sim_options = {'name': 'cosine', 'user_based': False}\n",
    "model = KNNBasic(sim_options=sim_options)\n",
    "model.fit(trainset)"
   ],
   "metadata": {
    "collapsed": false,
    "ExecuteTime": {
     "end_time": "2024-01-14T20:27:21.989228Z",
     "start_time": "2024-01-14T20:27:18.930334Z"
    }
   }
  },
  {
   "cell_type": "code",
   "execution_count": 15,
   "outputs": [],
   "source": [
    "# Функция для предсказания рекомендаций на основе коллаборативной фильтрации\n",
    "def collaborative_recommendation(userId, top_n=5):\n",
    "    anti_testset = trainset.build_anti_testset()\n",
    "    anti_testset = filter(lambda x: x[0] == userId, anti_testset)\n",
    "    predictions = model.test(anti_testset)\n",
    "    top_predictions = sorted(predictions, key=lambda x: x.est, reverse=True)[:top_n]\n",
    "    recommended_movie_ids = [int(prediction.iid) for prediction in top_predictions]\n",
    "    recommended_movie_names = [movies[movies['movieId'] == movie_id]['title'].values[0] for movie_id in recommended_movie_ids]\n",
    "    return recommended_movie_names"
   ],
   "metadata": {
    "collapsed": false,
    "ExecuteTime": {
     "end_time": "2024-01-14T20:27:21.992047Z",
     "start_time": "2024-01-14T20:27:21.988829Z"
    }
   }
  },
  {
   "cell_type": "code",
   "execution_count": 16,
   "outputs": [
    {
     "name": "stdout",
     "output_type": "stream",
     "text": [
      "Collaborative Recommendation for user 1:\n"
     ]
    },
    {
     "data": {
      "text/plain": "                                                   0\n0  The Jinx: The Life and Deaths of Robert Durst ...\n1  Entertaining Angels: The Dorothy Day Story (1996)\n2                              Broken English (1996)\n3  Fullmetal Alchemist: The Sacred Star of Milos ...\n4              The Stanford Prison Experiment (2015)",
      "text/html": "<div>\n<style scoped>\n    .dataframe tbody tr th:only-of-type {\n        vertical-align: middle;\n    }\n\n    .dataframe tbody tr th {\n        vertical-align: top;\n    }\n\n    .dataframe thead th {\n        text-align: right;\n    }\n</style>\n<table border=\"1\" class=\"dataframe\">\n  <thead>\n    <tr style=\"text-align: right;\">\n      <th></th>\n      <th>0</th>\n    </tr>\n  </thead>\n  <tbody>\n    <tr>\n      <th>0</th>\n      <td>The Jinx: The Life and Deaths of Robert Durst ...</td>\n    </tr>\n    <tr>\n      <th>1</th>\n      <td>Entertaining Angels: The Dorothy Day Story (1996)</td>\n    </tr>\n    <tr>\n      <th>2</th>\n      <td>Broken English (1996)</td>\n    </tr>\n    <tr>\n      <th>3</th>\n      <td>Fullmetal Alchemist: The Sacred Star of Milos ...</td>\n    </tr>\n    <tr>\n      <th>4</th>\n      <td>The Stanford Prison Experiment (2015)</td>\n    </tr>\n  </tbody>\n</table>\n</div>"
     },
     "execution_count": 16,
     "metadata": {},
     "output_type": "execute_result"
    }
   ],
   "source": [
    "# Пример использования\n",
    "userId = 1\n",
    "collab_rec = collaborative_recommendation(userId)\n",
    "print(f\"Collaborative Recommendation for user {userId}:\")\n",
    "pd.DataFrame(collab_rec)"
   ],
   "metadata": {
    "collapsed": false,
    "ExecuteTime": {
     "end_time": "2024-01-14T20:27:25.780516Z",
     "start_time": "2024-01-14T20:27:22.068296Z"
    }
   }
  },
  {
   "cell_type": "markdown",
   "source": [
    "# Hybrid Model"
   ],
   "metadata": {
    "collapsed": false
   }
  },
  {
   "cell_type": "code",
   "execution_count": 17,
   "outputs": [
    {
     "name": "stdout",
     "output_type": "stream",
     "text": [
      "Hybrid Recommendation for user 1 on movie 1:\n"
     ]
    },
    {
     "data": {
      "text/plain": "                                                   0\n0                              Broken English (1996)\n1                                             genres\n2  The Jinx: The Life and Deaths of Robert Durst ...\n3              The Stanford Prison Experiment (2015)\n4  Entertaining Angels: The Dorothy Day Story (1996)\n5                                              title\n6  Fullmetal Alchemist: The Sacred Star of Milos ...",
      "text/html": "<div>\n<style scoped>\n    .dataframe tbody tr th:only-of-type {\n        vertical-align: middle;\n    }\n\n    .dataframe tbody tr th {\n        vertical-align: top;\n    }\n\n    .dataframe thead th {\n        text-align: right;\n    }\n</style>\n<table border=\"1\" class=\"dataframe\">\n  <thead>\n    <tr style=\"text-align: right;\">\n      <th></th>\n      <th>0</th>\n    </tr>\n  </thead>\n  <tbody>\n    <tr>\n      <th>0</th>\n      <td>Broken English (1996)</td>\n    </tr>\n    <tr>\n      <th>1</th>\n      <td>genres</td>\n    </tr>\n    <tr>\n      <th>2</th>\n      <td>The Jinx: The Life and Deaths of Robert Durst ...</td>\n    </tr>\n    <tr>\n      <th>3</th>\n      <td>The Stanford Prison Experiment (2015)</td>\n    </tr>\n    <tr>\n      <th>4</th>\n      <td>Entertaining Angels: The Dorothy Day Story (1996)</td>\n    </tr>\n    <tr>\n      <th>5</th>\n      <td>title</td>\n    </tr>\n    <tr>\n      <th>6</th>\n      <td>Fullmetal Alchemist: The Sacred Star of Milos ...</td>\n    </tr>\n  </tbody>\n</table>\n</div>"
     },
     "execution_count": 17,
     "metadata": {},
     "output_type": "execute_result"
    }
   ],
   "source": [
    "def hybrid_recommendation(userId, movieId):\n",
    "    # Получаем рекомендации от контентно-коллаборативной модели\n",
    "    content_rec =  get_content_based_recommendations(movieId)\n",
    "\n",
    "    # Получаем рекомендации от коллаборативной модели для пользователя\n",
    "    collab_rec = collaborative_recommendation(userId)\n",
    "\n",
    "    # Объединяем рекомендации обоих методов\n",
    "    hybrid_rec = list(set(content_rec).union(set(collab_rec)))\n",
    "\n",
    "    return hybrid_rec\n",
    "\n",
    "# Пример использования\n",
    "userId = 1\n",
    "movieId = 1\n",
    "hybrid_rec = hybrid_recommendation(userId, movieId)\n",
    "print(f\"Hybrid Recommendation for user {userId} on movie {movieId}:\")\n",
    "pd.DataFrame(hybrid_rec)\n"
   ],
   "metadata": {
    "collapsed": false,
    "ExecuteTime": {
     "end_time": "2024-01-14T20:27:29.571603Z",
     "start_time": "2024-01-14T20:27:25.782855Z"
    }
   }
  },
  {
   "cell_type": "code",
   "execution_count": 51,
   "outputs": [],
   "source": [
    "def hybrid_recommendation(userId, movie_id, weight_num1=0.3, weight_num2=0.7, top_n=5):\n",
    "    # Получаем рекомендации от контентно-коллаборативной модели\n",
    "    content_ = get_content_based_recommendations(movie_id, 1000)\n",
    "    content_ = content_.drop(['genres'], axis=1)\n",
    "    content_['num1'] = range(1, len(content_) + 1)\n",
    "    # print(content_)\n",
    "    collab_rec = pd.DataFrame(collaborative_recommendation(userId, 1000))\n",
    "    collab_rec.columns = ['title']\n",
    "    collab_rec['num2'] = range(1, len(collab_rec) + 1)\n",
    "    \n",
    "    merged_df = pd.merge(content_, collab_rec, on='title', how='outer')\n",
    "    merged_df['sum_num_weighted'] = (merged_df['num1'].fillna(0) * weight_num1) + (merged_df['num2'].fillna(0) * weight_num2)\n",
    "    \n",
    "    # Сортируем DataFrame по взвешенному столбцу 'sum_num_weighted'\n",
    "    merged_df = merged_df.sort_values(by='sum_num_weighted')\n",
    "    # print(merged_df)\n",
    "    # merged_df['sum_num'] = merged_df['num1'].fillna(0) + merged_df['num2'].fillna(0)\n",
    "    merged_df = merged_df.drop(['num1', 'num2'], axis=1)\n",
    "    # merged_df = merged_df.sort_values(by='sum_num')\n",
    "\n",
    "    return merged_df[:top_n]"
   ],
   "metadata": {
    "collapsed": false,
    "ExecuteTime": {
     "end_time": "2024-01-14T20:37:32.540072Z",
     "start_time": "2024-01-14T20:37:32.528302Z"
    }
   }
  },
  {
   "cell_type": "code",
   "execution_count": 52,
   "outputs": [
    {
     "name": "stdout",
     "output_type": "stream",
     "text": [
      "Hybrid Recommendation for user 1 on movie 1 - Star Wars: Episode IV - A New Hope (1977) :\n"
     ]
    },
    {
     "data": {
      "text/plain": "                                                  title\n0               Superman IV: The Quest for Peace (1987)\n1                                       Superman (1978)\n1000  The Jinx: The Life and Deaths of Robert Durst ...\n2                                     Waterworld (1995)\n3      Star Wars: Episode I - The Phantom Menace (1999)\n1001  Entertaining Angels: The Dorothy Day Story (1996)\n4                                       Stargate (1994)\n5                                  Lost in Space (1998)\n1002                              Broken English (1996)\n6     Star Wars: Episode VI - Return of the Jedi (1983)",
      "text/html": "<div>\n<style scoped>\n    .dataframe tbody tr th:only-of-type {\n        vertical-align: middle;\n    }\n\n    .dataframe tbody tr th {\n        vertical-align: top;\n    }\n\n    .dataframe thead th {\n        text-align: right;\n    }\n</style>\n<table border=\"1\" class=\"dataframe\">\n  <thead>\n    <tr style=\"text-align: right;\">\n      <th></th>\n      <th>title</th>\n    </tr>\n  </thead>\n  <tbody>\n    <tr>\n      <th>0</th>\n      <td>Superman IV: The Quest for Peace (1987)</td>\n    </tr>\n    <tr>\n      <th>1</th>\n      <td>Superman (1978)</td>\n    </tr>\n    <tr>\n      <th>1000</th>\n      <td>The Jinx: The Life and Deaths of Robert Durst ...</td>\n    </tr>\n    <tr>\n      <th>2</th>\n      <td>Waterworld (1995)</td>\n    </tr>\n    <tr>\n      <th>3</th>\n      <td>Star Wars: Episode I - The Phantom Menace (1999)</td>\n    </tr>\n    <tr>\n      <th>1001</th>\n      <td>Entertaining Angels: The Dorothy Day Story (1996)</td>\n    </tr>\n    <tr>\n      <th>4</th>\n      <td>Stargate (1994)</td>\n    </tr>\n    <tr>\n      <th>5</th>\n      <td>Lost in Space (1998)</td>\n    </tr>\n    <tr>\n      <th>1002</th>\n      <td>Broken English (1996)</td>\n    </tr>\n    <tr>\n      <th>6</th>\n      <td>Star Wars: Episode VI - Return of the Jedi (1983)</td>\n    </tr>\n  </tbody>\n</table>\n</div>"
     },
     "execution_count": 52,
     "metadata": {},
     "output_type": "execute_result"
    }
   ],
   "source": [
    "userId = 1\n",
    "movie_id = 15\n",
    "hybrid_rec = hybrid_recommendation(userId, movie_id, top_n=10)\n",
    "print(f\"Hybrid Recommendation for user {userId} on movie {movieId} - {selected_movies.iloc[movie_id]['title']} :\")\n",
    "pd.DataFrame(hybrid_rec, columns=['title'])"
   ],
   "metadata": {
    "collapsed": false,
    "ExecuteTime": {
     "end_time": "2024-01-14T20:37:36.529774Z",
     "start_time": "2024-01-14T20:37:32.663765Z"
    }
   }
  }
 ],
 "metadata": {
  "kernelspec": {
   "display_name": "Python 3",
   "language": "python",
   "name": "python3"
  },
  "language_info": {
   "codemirror_mode": {
    "name": "ipython",
    "version": 3
   },
   "file_extension": ".py",
   "mimetype": "text/x-python",
   "name": "python",
   "nbconvert_exporter": "python",
   "pygments_lexer": "ipython3",
   "version": "3.6.4"
  },
  "colab": {
   "name": "lecture-5-part-2.ipynb",
   "provenance": []
  }
 },
 "nbformat": 4,
 "nbformat_minor": 0
}
